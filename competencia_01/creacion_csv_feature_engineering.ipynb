{
 "cells": [
  {
   "cell_type": "code",
   "execution_count": 1,
   "id": "8c5f9469",
   "metadata": {},
   "outputs": [],
   "source": [
    "ARCHIVO_DATOS_CSV = 'competencia_01.csv'"
   ]
  },
  {
   "cell_type": "code",
   "execution_count": 2,
   "id": "72043f10",
   "metadata": {},
   "outputs": [],
   "source": [
    "import os\n",
    "import pandas as pd\n",
    "\n",
    "from funciones_feature_engineering import feature_engineering_lag, feature_engineering_min_max, feature_engineering_deltas, feature_engineering_medias_moviles, feature_engineering_cum_sum,         feature_engineering_ratios, feature_engineering_medias_moviles_lag, generar_shock_relativo_delta_lag, crear_indicador_aguinaldo"
   ]
  },
  {
   "cell_type": "code",
   "execution_count": 3,
   "id": "f82593d4",
   "metadata": {},
   "outputs": [],
   "source": [
    "base_path = os.getcwd()"
   ]
  },
  {
   "cell_type": "code",
   "execution_count": 4,
   "id": "b0b0d8b0",
   "metadata": {},
   "outputs": [
    {
     "data": {
      "text/plain": [
       "'c:\\\\Users\\\\Facundo San Martino\\\\Desktop\\\\dmeyf2025\\\\competencia_01'"
      ]
     },
     "execution_count": 4,
     "metadata": {},
     "output_type": "execute_result"
    }
   ],
   "source": [
    "base_path"
   ]
  },
  {
   "cell_type": "code",
   "execution_count": 5,
   "id": "873734b2",
   "metadata": {},
   "outputs": [],
   "source": [
    "# Configuración de path\n",
    "\n",
    "base_path = os.getcwd()\n",
    "dataset_path = os.path.join(base_path, 'datos')\n",
    "dataset_file = ARCHIVO_DATOS_CSV\n",
    "\n",
    "df = pd.read_csv(os.path.join(dataset_path, dataset_file))"
   ]
  },
  {
   "cell_type": "code",
   "execution_count": 6,
   "id": "c2221fed",
   "metadata": {},
   "outputs": [
    {
     "data": {
      "text/html": [
       "<div>\n",
       "<style scoped>\n",
       "    .dataframe tbody tr th:only-of-type {\n",
       "        vertical-align: middle;\n",
       "    }\n",
       "\n",
       "    .dataframe tbody tr th {\n",
       "        vertical-align: top;\n",
       "    }\n",
       "\n",
       "    .dataframe thead th {\n",
       "        text-align: right;\n",
       "    }\n",
       "</style>\n",
       "<table border=\"1\" class=\"dataframe\">\n",
       "  <thead>\n",
       "    <tr style=\"text-align: right;\">\n",
       "      <th></th>\n",
       "      <th>numero_de_cliente</th>\n",
       "      <th>foto_mes</th>\n",
       "      <th>active_quarter</th>\n",
       "      <th>cliente_vip</th>\n",
       "      <th>internet</th>\n",
       "      <th>cliente_edad</th>\n",
       "      <th>cliente_antiguedad</th>\n",
       "      <th>mrentabilidad</th>\n",
       "      <th>mrentabilidad_annual</th>\n",
       "      <th>mcomisiones</th>\n",
       "      <th>...</th>\n",
       "      <th>Visa_fultimo_cierre</th>\n",
       "      <th>Visa_mpagado</th>\n",
       "      <th>Visa_mpagospesos</th>\n",
       "      <th>Visa_mpagosdolares</th>\n",
       "      <th>Visa_fechaalta</th>\n",
       "      <th>Visa_mconsumototal</th>\n",
       "      <th>Visa_cconsumos</th>\n",
       "      <th>Visa_cadelantosefectivo</th>\n",
       "      <th>Visa_mpagominimo</th>\n",
       "      <th>clase_ternaria</th>\n",
       "    </tr>\n",
       "  </thead>\n",
       "  <tbody>\n",
       "    <tr>\n",
       "      <th>0</th>\n",
       "      <td>249255747</td>\n",
       "      <td>202101</td>\n",
       "      <td>1</td>\n",
       "      <td>0</td>\n",
       "      <td>0</td>\n",
       "      <td>56</td>\n",
       "      <td>85</td>\n",
       "      <td>792.76</td>\n",
       "      <td>48185.72</td>\n",
       "      <td>397.40</td>\n",
       "      <td>...</td>\n",
       "      <td>4.0</td>\n",
       "      <td>0.0</td>\n",
       "      <td>-19323.21</td>\n",
       "      <td>0.0</td>\n",
       "      <td>1538.0</td>\n",
       "      <td>26521.15</td>\n",
       "      <td>18.0</td>\n",
       "      <td>0.0</td>\n",
       "      <td>1618.74</td>\n",
       "      <td>CONTINUA</td>\n",
       "    </tr>\n",
       "    <tr>\n",
       "      <th>1</th>\n",
       "      <td>249255747</td>\n",
       "      <td>202102</td>\n",
       "      <td>1</td>\n",
       "      <td>0</td>\n",
       "      <td>0</td>\n",
       "      <td>56</td>\n",
       "      <td>86</td>\n",
       "      <td>15549.20</td>\n",
       "      <td>52210.75</td>\n",
       "      <td>15131.87</td>\n",
       "      <td>...</td>\n",
       "      <td>-3.0</td>\n",
       "      <td>0.0</td>\n",
       "      <td>-3811.58</td>\n",
       "      <td>0.0</td>\n",
       "      <td>1566.0</td>\n",
       "      <td>18188.18</td>\n",
       "      <td>9.0</td>\n",
       "      <td>0.0</td>\n",
       "      <td>3237.48</td>\n",
       "      <td>CONTINUA</td>\n",
       "    </tr>\n",
       "    <tr>\n",
       "      <th>2</th>\n",
       "      <td>249255747</td>\n",
       "      <td>202103</td>\n",
       "      <td>1</td>\n",
       "      <td>0</td>\n",
       "      <td>0</td>\n",
       "      <td>56</td>\n",
       "      <td>87</td>\n",
       "      <td>1219.16</td>\n",
       "      <td>51994.65</td>\n",
       "      <td>1229.18</td>\n",
       "      <td>...</td>\n",
       "      <td>1.0</td>\n",
       "      <td>0.0</td>\n",
       "      <td>-3237.48</td>\n",
       "      <td>0.0</td>\n",
       "      <td>1597.0</td>\n",
       "      <td>7042.92</td>\n",
       "      <td>7.0</td>\n",
       "      <td>0.0</td>\n",
       "      <td>3460.35</td>\n",
       "      <td>CONTINUA</td>\n",
       "    </tr>\n",
       "    <tr>\n",
       "      <th>3</th>\n",
       "      <td>249255747</td>\n",
       "      <td>202104</td>\n",
       "      <td>1</td>\n",
       "      <td>0</td>\n",
       "      <td>0</td>\n",
       "      <td>56</td>\n",
       "      <td>88</td>\n",
       "      <td>9023.22</td>\n",
       "      <td>58668.96</td>\n",
       "      <td>8795.06</td>\n",
       "      <td>...</td>\n",
       "      <td>2.0</td>\n",
       "      <td>0.0</td>\n",
       "      <td>-46651.84</td>\n",
       "      <td>0.0</td>\n",
       "      <td>1627.0</td>\n",
       "      <td>26086.04</td>\n",
       "      <td>15.0</td>\n",
       "      <td>0.0</td>\n",
       "      <td>0.00</td>\n",
       "      <td>CONTINUA</td>\n",
       "    </tr>\n",
       "    <tr>\n",
       "      <th>4</th>\n",
       "      <td>249255747</td>\n",
       "      <td>202105</td>\n",
       "      <td>1</td>\n",
       "      <td>0</td>\n",
       "      <td>0</td>\n",
       "      <td>56</td>\n",
       "      <td>89</td>\n",
       "      <td>3307.06</td>\n",
       "      <td>59767.23</td>\n",
       "      <td>1975.12</td>\n",
       "      <td>...</td>\n",
       "      <td>5.0</td>\n",
       "      <td>0.0</td>\n",
       "      <td>-24860.82</td>\n",
       "      <td>0.0</td>\n",
       "      <td>1658.0</td>\n",
       "      <td>28443.60</td>\n",
       "      <td>9.0</td>\n",
       "      <td>0.0</td>\n",
       "      <td>7683.15</td>\n",
       "      <td>CONTINUA</td>\n",
       "    </tr>\n",
       "  </tbody>\n",
       "</table>\n",
       "<p>5 rows × 155 columns</p>\n",
       "</div>"
      ],
      "text/plain": [
       "   numero_de_cliente  foto_mes  active_quarter  cliente_vip  internet  \\\n",
       "0          249255747    202101               1            0         0   \n",
       "1          249255747    202102               1            0         0   \n",
       "2          249255747    202103               1            0         0   \n",
       "3          249255747    202104               1            0         0   \n",
       "4          249255747    202105               1            0         0   \n",
       "\n",
       "   cliente_edad  cliente_antiguedad  mrentabilidad  mrentabilidad_annual  \\\n",
       "0            56                  85         792.76              48185.72   \n",
       "1            56                  86       15549.20              52210.75   \n",
       "2            56                  87        1219.16              51994.65   \n",
       "3            56                  88        9023.22              58668.96   \n",
       "4            56                  89        3307.06              59767.23   \n",
       "\n",
       "   mcomisiones  ...  Visa_fultimo_cierre  Visa_mpagado  Visa_mpagospesos  \\\n",
       "0       397.40  ...                  4.0           0.0         -19323.21   \n",
       "1     15131.87  ...                 -3.0           0.0          -3811.58   \n",
       "2      1229.18  ...                  1.0           0.0          -3237.48   \n",
       "3      8795.06  ...                  2.0           0.0         -46651.84   \n",
       "4      1975.12  ...                  5.0           0.0         -24860.82   \n",
       "\n",
       "   Visa_mpagosdolares  Visa_fechaalta  Visa_mconsumototal  Visa_cconsumos  \\\n",
       "0                 0.0          1538.0            26521.15            18.0   \n",
       "1                 0.0          1566.0            18188.18             9.0   \n",
       "2                 0.0          1597.0             7042.92             7.0   \n",
       "3                 0.0          1627.0            26086.04            15.0   \n",
       "4                 0.0          1658.0            28443.60             9.0   \n",
       "\n",
       "   Visa_cadelantosefectivo  Visa_mpagominimo  clase_ternaria  \n",
       "0                      0.0           1618.74        CONTINUA  \n",
       "1                      0.0           3237.48        CONTINUA  \n",
       "2                      0.0           3460.35        CONTINUA  \n",
       "3                      0.0              0.00        CONTINUA  \n",
       "4                      0.0           7683.15        CONTINUA  \n",
       "\n",
       "[5 rows x 155 columns]"
      ]
     },
     "execution_count": 6,
     "metadata": {},
     "output_type": "execute_result"
    }
   ],
   "source": [
    "df.head()"
   ]
  },
  {
   "cell_type": "code",
   "execution_count": 7,
   "id": "d98ea80c",
   "metadata": {},
   "outputs": [
    {
     "data": {
      "application/vnd.jupyter.widget-view+json": {
       "model_id": "5daa23bdc146495e8b3b8bed28c080e5",
       "version_major": 2,
       "version_minor": 0
      },
      "text/plain": [
       "FloatProgress(value=0.0, layout=Layout(width='auto'), style=ProgressStyle(bar_color='black'))"
      ]
     },
     "metadata": {},
     "output_type": "display_data"
    },
    {
     "data": {
      "application/vnd.jupyter.widget-view+json": {
       "model_id": "730b22f817864f7ca4b2adcb81d88ef8",
       "version_major": 2,
       "version_minor": 0
      },
      "text/plain": [
       "FloatProgress(value=0.0, layout=Layout(width='auto'), style=ProgressStyle(bar_color='black'))"
      ]
     },
     "metadata": {},
     "output_type": "display_data"
    },
    {
     "data": {
      "application/vnd.jupyter.widget-view+json": {
       "model_id": "0bfb89158e6c4ed8bbbba6128f644c5e",
       "version_major": 2,
       "version_minor": 0
      },
      "text/plain": [
       "FloatProgress(value=0.0, layout=Layout(width='auto'), style=ProgressStyle(bar_color='black'))"
      ]
     },
     "metadata": {},
     "output_type": "display_data"
    },
    {
     "data": {
      "application/vnd.jupyter.widget-view+json": {
       "model_id": "cd78c25771124f6cbc08b409c28786f3",
       "version_major": 2,
       "version_minor": 0
      },
      "text/plain": [
       "FloatProgress(value=0.0, layout=Layout(width='auto'), style=ProgressStyle(bar_color='black'))"
      ]
     },
     "metadata": {},
     "output_type": "display_data"
    },
    {
     "data": {
      "application/vnd.jupyter.widget-view+json": {
       "model_id": "06745276f05c42d09bcac161b8cd50d1",
       "version_major": 2,
       "version_minor": 0
      },
      "text/plain": [
       "FloatProgress(value=0.0, layout=Layout(width='auto'), style=ProgressStyle(bar_color='black'))"
      ]
     },
     "metadata": {},
     "output_type": "display_data"
    }
   ],
   "source": [
    "#01 Feature Engineering\n",
    "atributos = [\n",
    "    \"mrentabilidad\",\n",
    "    \"mcomisiones\",\n",
    "    \"mpasivos_margen\",\n",
    "    \"mcaja_ahorro\",\n",
    "    \"mcaja_ahorro_dolares\",\n",
    "    \"mcuentas_saldo\",\n",
    "    \"ctarjeta_debito_transacciones\",\n",
    "    \"mautoservicio\",\n",
    "    \"ctarjeta_visa_transacciones\",\n",
    "    \"mtarjeta_visa_consumo\",\n",
    "    \"ctarjeta_master_transacciones\",\n",
    "    \"mtarjeta_master_consumo\",\n",
    "    \"mprestamos_personales\",\n",
    "    \"mprestamos_prendarios\",\n",
    "    \"mprestamos_hipotecarios\",\n",
    "    \"mplazo_fijo_dolares\",\n",
    "    \"mplazo_fijo_pesos\",\n",
    "    \"cpayroll_trx\",\n",
    "    \"cpayroll2_trx\",\n",
    "    \"mcomisiones_mantenimiento\",\n",
    "    \"ctrx_quarter\",\n",
    "    \"Master_mlimitecompra\",\n",
    "    \"Master_mconsumototal\",\n",
    "    \"Visa_mlimitecompra\",\n",
    "    \"Visa_mconsumototal\",\n",
    "    \"mactivos_margen\",\n",
    "    \"mcuenta_corriente\",\n",
    "    \"mcuenta_corriente_adicional\",\n",
    "    \"mcaja_ahorro_adicional\",\n",
    "    \"minversion1_pesos\",\n",
    "    \"minversion1_dolares\",\n",
    "    \"minversion2\"\n",
    "    ]\n",
    "\n",
    "\n",
    "atributos_fe_lag = atributos \n",
    "atributo_fe_deltas = atributos\n",
    "atributos_fe_medias_moviles = atributos\n",
    "atributos_cum_sum = atributos\n",
    "atributos_min_max = atributos\n",
    "\n",
    "ratio_pairs = [\n",
    "    \n",
    "    (\"Master_mconsumototal\", \"Master_mlimitecompra\"),\n",
    "    (\"Visa_mconsumototal\", \"Visa_mlimitecompra\"),\n",
    "    (\"mtarjeta_master_consumo\", \"Master_mlimitecompra\"),\n",
    "    (\"mtarjeta_visa_consumo\", \"Visa_mlimitecompra\"),\n",
    "    (\"mprestamos_personales\", \"mcuentas_saldo\"),\n",
    "    (\"mprestamos_prendarios\", \"mcuentas_saldo\"),\n",
    "    (\"mprestamos_hipotecarios\", \"mcuentas_saldo\"),\n",
    "    (\"mcaja_ahorro\", \"mcuentas_saldo\"),\n",
    "    (\"mcaja_ahorro_dolares\", \"mcuentas_saldo\"),\n",
    "    (\"mcomisiones\", \"mrentabilidad\"),\n",
    "    \n",
    "    # nuevos sugeridos\n",
    "    (\"mcuenta_corriente\", \"mcuentas_saldo\"),\n",
    "    (\"mcuenta_corriente_adicional\", \"mcuentas_saldo\"),\n",
    "    (\"minversion1_pesos\", \"mcuentas_saldo\"),\n",
    "    (\"minversion1_dolares\", \"mcuentas_saldo\"),\n",
    "    (\"minversion2\", \"mcuentas_saldo\"),\n",
    "    (\"mactivos_margen\", \"mpasivos_margen\"),  # margen activo/pasivo\n",
    "    (\"mcomisiones_mantenimiento\", \"mcomisiones\"),  # proporción de mantenimiento sobre comisiones totales\n",
    "    (\"mtarjeta_master_consumo\", \"mcuentas_saldo\"),\n",
    "    (\"mtarjeta_visa_consumo\", \"mcuentas_saldo\")\n",
    "]\n",
    "\n",
    "\n",
    "    \n",
    "\n",
    "cant_lag = 2\n",
    "window_size = 2\n",
    "    \n",
    "df_fe = feature_engineering_lag(df, columnas=atributos_fe_lag, cant_lag=cant_lag)\n",
    "df_fe = feature_engineering_deltas(df_fe, columnas=atributo_fe_deltas, cant_lag=cant_lag)\n",
    "df_fe = feature_engineering_medias_moviles(df_fe, columnas=atributos_fe_medias_moviles, window_size=window_size)\n",
    "    \n",
    "df_fe = feature_engineering_medias_moviles_lag(df_fe, columnas=atributos_fe_medias_moviles, window_size=window_size)\n",
    "\n",
    "    \n",
    "df_fe = generar_shock_relativo_delta_lag(df_fe, columnas=atributos_fe_medias_moviles, window_size=window_size)\n",
    "# df_fe = feature_engineering_cum_sum(df_fe, columnas=atributos_cum_sum)\n",
    "# df_fe = feature_engineering_min_max(df_fe, columnas=atributos_min_max)\n",
    "df_fe = feature_engineering_ratios(df_fe, ratio_pairs=ratio_pairs)\n",
    "df_fe = crear_indicador_aguinaldo(df_fe)\n",
    "  \n",
    "#02 Guardar datos\n",
    "path = \"datos/competencia_01_fe_shock_aguinaldo.csv\"\n",
    "df_fe.to_csv(path, index=False)"
   ]
  },
  {
   "cell_type": "code",
   "execution_count": 8,
   "id": "d43333a9",
   "metadata": {},
   "outputs": [
    {
     "data": {
      "text/plain": [
       "(978439, 399)"
      ]
     },
     "execution_count": 8,
     "metadata": {},
     "output_type": "execute_result"
    }
   ],
   "source": [
    "df_fe.shape"
   ]
  }
 ],
 "metadata": {
  "kernelspec": {
   "display_name": "Python 3",
   "language": "python",
   "name": "python3"
  },
  "language_info": {
   "codemirror_mode": {
    "name": "ipython",
    "version": 3
   },
   "file_extension": ".py",
   "mimetype": "text/x-python",
   "name": "python",
   "nbconvert_exporter": "python",
   "pygments_lexer": "ipython3",
   "version": "3.12.3"
  }
 },
 "nbformat": 4,
 "nbformat_minor": 5
}
