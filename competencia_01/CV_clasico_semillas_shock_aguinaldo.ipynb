{
 "cells": [
  {
   "cell_type": "code",
   "execution_count": null,
   "metadata": {},
   "outputs": [],
   "source": [
    "# Cambiar si es necesario\n",
    "\n",
    "NOMBRE_BASE_DE_DATOS_OPTUNA = 'optimization_lgbm_shock_aguinaldo.db' \n",
    "NOMBRE_DE_ESTUDIO_OPTUNA = 'lgbm_cv_shock_aguinaldo' \n",
    "ARCHIVO_DATOS_CSV = 'competencia_01_fe_shock_aguinaldo.csv' \n",
    "NOMBRE_NOTEBOOK = 'CV_clasico_semillas_shock_aguinaldo'\n"
   ]
  },
  {
   "cell_type": "code",
   "execution_count": 2,
   "metadata": {
    "id": "9MU2JBQk5xdH",
    "outputId": "6fd50c7c-6bc0-4554-f406-4d460a2f88a0"
   },
   "outputs": [],
   "source": [
    "import pandas as pd\n",
    "import numpy as np\n",
    "import seaborn as sns\n",
    "import matplotlib.pyplot as plt\n",
    "import os\n",
    "\n",
    "from sklearn.model_selection import train_test_split\n",
    "from sklearn.model_selection import ShuffleSplit, StratifiedShuffleSplit\n",
    "from sklearn.ensemble import RandomForestClassifier\n",
    "from sklearn.impute import SimpleImputer\n",
    "\n",
    "import lightgbm as lgb\n",
    "import optuna\n",
    "from optuna.visualization import plot_optimization_history, plot_param_importances, plot_slice, plot_contour\n",
    "\n",
    "from time import time\n",
    "import pickle"
   ]
  },
  {
   "cell_type": "code",
   "execution_count": null,
   "metadata": {
    "id": "wjIid2Yr5xdJ"
   },
   "outputs": [],
   "source": [
    "# Configuración de paths\n",
    "\n",
    "base_path = os.getcwd()\n",
    "dataset_path = os.path.join(base_path, 'datos')\n",
    "modelos_path = os.path.join(base_path, 'modelos')\n",
    "db_path = os.path.join(base_path, 'db')\n",
    "dataset_file = ARCHIVO_DATOS_CSV\n",
    "\n",
    "data = pd.read_csv(os.path.join(dataset_path, dataset_file))"
   ]
  },
  {
   "cell_type": "code",
   "execution_count": null,
   "metadata": {
    "id": "_IVBirCr5xdJ"
   },
   "outputs": [],
   "source": [
    "# Configuración de meses y semillas\n",
    "\n",
    "meses_train = [202101, 202102, 202103]     # Entrenamiento Optuna con cv clásico (enero, febrero, marzo)\n",
    "mes_valid = 202104                         # Validación (abril)\n",
    "mes_test_final = 202106                    # Predicción final (junio)\n",
    "semillas = [181459, 306491, 336251, 900577, 901751, 182009, 182011, 182027, 182029, 182041]\n",
    "\n",
    "ganancia_acierto = 780000\n",
    "costo_estimulo = 20000\n"
   ]
  },
  {
   "cell_type": "code",
   "execution_count": null,
   "metadata": {
    "id": "-RGhRzXa5xdK"
   },
   "outputs": [],
   "source": [
    "# CONFIGURACIÓN: decidir si eliminar columnas identificatorias\n",
    "\n",
    "cols_id = ['foto_mes', 'numero_de_cliente']\n",
    "\n",
    "\n",
    "eliminar_columnas_id = False # Finalmente no se eliminarán"
   ]
  },
  {
   "cell_type": "code",
   "execution_count": null,
   "metadata": {
    "id": "H7IPaZc55xdK"
   },
   "outputs": [],
   "source": [
    "# Clases y pesos\n",
    "\n",
    "data['clase_peso'] = 1.0\n",
    "data.loc[data['clase_ternaria'] == 'BAJA+2', 'clase_peso'] = 1.00002\n",
    "data.loc[data['clase_ternaria'] == 'BAJA+1', 'clase_peso'] = 1.00001\n",
    "\n",
    "data['clase_binaria1'] = np.where(data['clase_ternaria'] == 'BAJA+2', 1, 0)\n",
    "data['clase_binaria2'] = np.where(data['clase_ternaria'] == 'CONTINUA', 0, 1)\n"
   ]
  },
  {
   "cell_type": "code",
   "execution_count": null,
   "metadata": {
    "id": "AnKMFB4x5xdK",
    "outputId": "63bcbce7-e1ae-4a75-87c4-9d47c96abfbe"
   },
   "outputs": [
    {
     "name": "stdout",
     "output_type": "stream",
     "text": [
      "🔧 Columnas eliminadas del entrenamiento: ['clase_ternaria', 'clase_peso', 'clase_binaria1', 'clase_binaria2']\n"
     ]
    }
   ],
   "source": [
    "# Preparación de datos de entrenamiento para optimización bayesiana con optuna\n",
    "\n",
    "train_data = data[data['foto_mes'].isin(meses_train)]\n",
    "\n",
    "cols_to_drop = ['clase_ternaria', 'clase_peso', 'clase_binaria1', 'clase_binaria2']\n",
    "if eliminar_columnas_id:\n",
    "    cols_to_drop += cols_id\n",
    "\n",
    "X_train = train_data.drop(columns=cols_to_drop, errors='ignore')\n",
    "y_train_binaria1 = train_data['clase_binaria1']\n",
    "y_train_binaria2 = train_data['clase_binaria2']\n",
    "w_train = train_data['clase_peso']\n",
    "\n",
    "print(f\"🔧 Columnas eliminadas del entrenamiento: {cols_to_drop}\")"
   ]
  },
  {
   "cell_type": "code",
   "execution_count": null,
   "metadata": {
    "id": "l8cFtKnW5xdL"
   },
   "outputs": [],
   "source": [
    "# Función de ganancia personalizada para LightGBM\n",
    "\n",
    "def lgb_gan_eval(y_pred, data):\n",
    "    weight = data.get_weight()\n",
    "    ganancia = np.where(weight == 1.00002, ganancia_acierto, 0) - np.where(weight < 1.00002, costo_estimulo, 0)\n",
    "    ganancia = ganancia[np.argsort(y_pred)[::-1]]\n",
    "    ganancia = np.cumsum(ganancia)\n",
    "    return 'gan_eval', np.max(ganancia), True"
   ]
  },
  {
   "cell_type": "code",
   "execution_count": null,
   "metadata": {
    "id": "_D-5Ph7c5xdL"
   },
   "outputs": [],
   "source": [
    "# Objetivo para optuna\n",
    "\n",
    "def objective(trial):\n",
    "    # Espacio de búsqueda\n",
    "    params = {\n",
    "        'objective': 'binary',\n",
    "        'metric': 'custom',\n",
    "        'boosting_type': 'gbdt',\n",
    "        'first_metric_only': True,\n",
    "        'boost_from_average': True,\n",
    "        'feature_pre_filter': False,\n",
    "        'max_bin': 31,\n",
    "        'num_leaves': trial.suggest_int('num_leaves', 8, 100),\n",
    "        'learning_rate': trial.suggest_float('learning_rate', 0.005, 0.15, log=True),\n",
    "        'min_data_in_leaf': trial.suggest_int('min_data_in_leaf', 3, 30), # min_data_in_leaf lo deja en 3\n",
    "        'feature_fraction': trial.suggest_float('feature_fraction', 0.1, 1.0),\n",
    "        'bagging_fraction': trial.suggest_float('bagging_fraction', 0.1, 1.0),\n",
    "        'bagging_freq': trial.suggest_int('bagging_freq', 1, 7),\n",
    "        'lambda_l1': trial.suggest_float('lambda_l1', 1e-8, 10.0, log=True),\n",
    "        'lambda_l2': trial.suggest_float('lambda_l2', 1e-8, 10.0, log=True),\n",
    "        'min_gain_to_split': trial.suggest_float('min_gain_to_split', 0.0, 5.0),\n",
    "        'max_depth': trial.suggest_int('max_depth', 3, 40),\n",
    "        'seed': semillas[0],\n",
    "        'verbose': -1\n",
    "    }\n",
    "\n",
    "    num_boost_round = trial.suggest_int('num_boost_round', 100, 2000)\n",
    "    y_target = y_train_binaria2\n",
    "\n",
    "    train_dataset = lgb.Dataset(X_train, label=y_target, weight=w_train)\n",
    "    nfold = 5\n",
    "\n",
    "    cv_results = lgb.cv(\n",
    "        params,\n",
    "        train_dataset,\n",
    "        num_boost_round=num_boost_round,\n",
    "        feval=lgb_gan_eval,\n",
    "        stratified=True,\n",
    "        nfold=nfold,\n",
    "        seed=semillas[0],\n",
    "        callbacks=[\n",
    "            lgb.early_stopping(stopping_rounds=int(50 + 5 / params['learning_rate']), verbose=False),\n",
    "            lgb.log_evaluation(period=200),\n",
    "        ]\n",
    "    )\n",
    "\n",
    "    max_gan = max(cv_results['valid gan_eval-mean'])\n",
    "    best_iter = cv_results['valid gan_eval-mean'].index(max_gan) + 1\n",
    "    trial.set_user_attr(\"best_iter\", best_iter)\n",
    "    \n",
    "    return max_gan * 5"
   ]
  },
  {
   "cell_type": "code",
   "execution_count": 10,
   "metadata": {
    "collapsed": true,
    "id": "hHEyL_Kj5xdM",
    "outputId": "cc30a079-39d8-4220-8497-ab0ba76b1ce5"
   },
   "outputs": [
    {
     "name": "stderr",
     "output_type": "stream",
     "text": [
      "[I 2025-10-11 22:09:08,438] Using an existing study with name 'lgbm_cv_shock_aguinaldo' instead of creating a new one.\n"
     ]
    }
   ],
   "source": [
    "# Crear carpeta si no existe\n",
    "os.makedirs(db_path, exist_ok=True)\n",
    "\n",
    "# Definir base de datos SQLite para guardar resultados\n",
    "storage_name = \"sqlite:///\" + os.path.join(db_path, NOMBRE_BASE_DE_DATOS_OPTUNA)\n",
    "\n",
    "# Definir sampler con 20 iteraciones aleatorias (exploración inicial)\n",
    "sampler = optuna.samplers.TPESampler(\n",
    "    n_startup_trials=20,  # 20 iteraciones \"no inteligentes\"\n",
    "    seed=semillas[0]\n",
    ")\n",
    "\n",
    "# Crear estudio (si ya existe, lo reusa)\n",
    "study = optuna.create_study(\n",
    "    direction=\"maximize\",\n",
    "    study_name=NOMBRE_DE_ESTUDIO_OPTUNA,\n",
    "    storage=storage_name,\n",
    "    load_if_exists=True,\n",
    "    sampler=sampler\n",
    ")"
   ]
  },
  {
   "cell_type": "code",
   "execution_count": 11,
   "metadata": {},
   "outputs": [],
   "source": [
    "# # Ejecutar optimización: 100 = 20 aleatorias + 80 inteligentes\n",
    "# study.optimize(objective, n_trials=200)"
   ]
  },
  {
   "cell_type": "code",
   "execution_count": null,
   "metadata": {},
   "outputs": [
    {
     "data": {
      "application/vnd.plotly.v1+json": {
       "config": {
        "plotlyServerURL": "https://plot.ly"
       },
       "data": [
        {
         "mode": "markers",
         "name": "Objective Value",
         "type": "scatter",
         "x": [
          0,
          1,
          2,
          3,
          4,
          5,
          6,
          7,
          8,
          9,
          10,
          11,
          12,
          13,
          14,
          15,
          16,
          17,
          18,
          19,
          20,
          21,
          22,
          23,
          24,
          25,
          26,
          27,
          28,
          29,
          30,
          31,
          32,
          33,
          34,
          35,
          36,
          37,
          38,
          39,
          40,
          41,
          42,
          43,
          44,
          45,
          46,
          47,
          48,
          49,
          50,
          51,
          52,
          53,
          54,
          55,
          56,
          57,
          59,
          60,
          61,
          62,
          63,
          64,
          65,
          66,
          67,
          68,
          69,
          70,
          71,
          74,
          75,
          76,
          77,
          79,
          81,
          82,
          83,
          84,
          85,
          86,
          87,
          88,
          89,
          90,
          91,
          92,
          93,
          94,
          95,
          96,
          97,
          98,
          99,
          100,
          101,
          102,
          103,
          104,
          105,
          106,
          107,
          108,
          109,
          110,
          111,
          112,
          113,
          114,
          115,
          116,
          117,
          118,
          119,
          120,
          121,
          122,
          123,
          124,
          125,
          126,
          127,
          128
         ],
         "y": [
          807460000,
          768240000,
          796760000,
          824640000,
          858440000,
          821440000,
          814720000,
          882300000,
          794020000,
          857660000,
          874500000,
          876280000,
          869280000,
          865660000,
          829960000,
          848780000,
          835480000,
          863040000,
          837940000,
          868820000,
          831440000,
          886860000,
          883320000,
          880400000,
          860080000,
          892480000,
          879240000,
          875760000,
          878900000,
          866700000,
          887180000,
          894240000,
          881780000,
          895960000,
          908640000,
          913520000,
          874680000,
          900140000,
          887220000,
          886540000,
          879420000,
          904940000,
          896040000,
          840440000,
          880380000,
          886840000,
          894920000,
          823800000,
          902760000,
          867420000,
          834020000,
          901180000,
          893060000,
          890640000,
          906880000,
          869100000,
          883020000,
          881400000,
          899540000,
          861880000,
          908260000,
          895420000,
          913320000,
          892500000,
          899800000,
          888260000,
          862820000,
          902880000,
          801400000,
          917260000,
          904920000,
          896940000,
          910860000,
          902600000,
          855760000,
          895680000,
          896460000,
          896080000,
          867940000,
          823580000,
          898040000,
          899900000,
          904920000,
          900600000,
          897680000,
          909620000,
          895380000,
          901100000,
          820700000,
          916920000,
          901100000,
          906880000,
          905500000,
          909500000,
          914320000,
          919540000,
          904600000,
          904300000,
          899380000,
          910720000,
          902720000,
          909160000,
          909080000,
          910180000,
          907300000,
          860100000,
          911400000,
          879060000,
          916960000,
          915020000,
          914860000,
          897400000,
          885280000,
          888600000,
          889200000,
          897600000,
          902100000,
          892940000,
          869700000,
          909700000,
          909180000,
          908460000,
          910320000,
          906160000
         ]
        },
        {
         "mode": "lines",
         "name": "Best Value",
         "type": "scatter",
         "x": [
          0,
          1,
          2,
          3,
          4,
          5,
          6,
          7,
          8,
          9,
          10,
          11,
          12,
          13,
          14,
          15,
          16,
          17,
          18,
          19,
          20,
          21,
          22,
          23,
          24,
          25,
          26,
          27,
          28,
          29,
          30,
          31,
          32,
          33,
          34,
          35,
          36,
          37,
          38,
          39,
          40,
          41,
          42,
          43,
          44,
          45,
          46,
          47,
          48,
          49,
          50,
          51,
          52,
          53,
          54,
          55,
          56,
          57,
          58,
          59,
          60,
          61,
          62,
          63,
          64,
          65,
          66,
          67,
          68,
          69,
          70,
          71,
          72,
          73,
          74,
          75,
          76,
          77,
          78,
          79,
          80,
          81,
          82,
          83,
          84,
          85,
          86,
          87,
          88,
          89,
          90,
          91,
          92,
          93,
          94,
          95,
          96,
          97,
          98,
          99,
          100,
          101,
          102,
          103,
          104,
          105,
          106,
          107,
          108,
          109,
          110,
          111,
          112,
          113,
          114,
          115,
          116,
          117,
          118,
          119,
          120,
          121,
          122,
          123,
          124,
          125,
          126,
          127,
          128,
          129
         ],
         "y": [
          807460000,
          807460000,
          807460000,
          824640000,
          858440000,
          858440000,
          858440000,
          882300000,
          882300000,
          882300000,
          882300000,
          882300000,
          882300000,
          882300000,
          882300000,
          882300000,
          882300000,
          882300000,
          882300000,
          882300000,
          882300000,
          886860000,
          886860000,
          886860000,
          886860000,
          892480000,
          892480000,
          892480000,
          892480000,
          892480000,
          892480000,
          894240000,
          894240000,
          895960000,
          908640000,
          913520000,
          913520000,
          913520000,
          913520000,
          913520000,
          913520000,
          913520000,
          913520000,
          913520000,
          913520000,
          913520000,
          913520000,
          913520000,
          913520000,
          913520000,
          913520000,
          913520000,
          913520000,
          913520000,
          913520000,
          913520000,
          913520000,
          913520000,
          913520000,
          913520000,
          913520000,
          913520000,
          913520000,
          913520000,
          913520000,
          913520000,
          913520000,
          913520000,
          913520000,
          913520000,
          917260000,
          917260000,
          917260000,
          917260000,
          917260000,
          917260000,
          917260000,
          917260000,
          917260000,
          917260000,
          917260000,
          917260000,
          917260000,
          917260000,
          917260000,
          917260000,
          917260000,
          917260000,
          917260000,
          917260000,
          917260000,
          917260000,
          917260000,
          917260000,
          917260000,
          917260000,
          917260000,
          917260000,
          917260000,
          917260000,
          919540000,
          919540000,
          919540000,
          919540000,
          919540000,
          919540000,
          919540000,
          919540000,
          919540000,
          919540000,
          919540000,
          919540000,
          919540000,
          919540000,
          919540000,
          919540000,
          919540000,
          919540000,
          919540000,
          919540000,
          919540000,
          919540000,
          919540000,
          919540000,
          919540000,
          919540000,
          919540000,
          919540000,
          919540000,
          919540000
         ]
        },
        {
         "marker": {
          "color": "#cccccc"
         },
         "mode": "markers",
         "name": "Infeasible Trial",
         "showlegend": false,
         "type": "scatter",
         "x": [],
         "y": []
        }
       ],
       "layout": {
        "template": {
         "data": {
          "bar": [
           {
            "error_x": {
             "color": "#2a3f5f"
            },
            "error_y": {
             "color": "#2a3f5f"
            },
            "marker": {
             "line": {
              "color": "#E5ECF6",
              "width": 0.5
             },
             "pattern": {
              "fillmode": "overlay",
              "size": 10,
              "solidity": 0.2
             }
            },
            "type": "bar"
           }
          ],
          "barpolar": [
           {
            "marker": {
             "line": {
              "color": "#E5ECF6",
              "width": 0.5
             },
             "pattern": {
              "fillmode": "overlay",
              "size": 10,
              "solidity": 0.2
             }
            },
            "type": "barpolar"
           }
          ],
          "carpet": [
           {
            "aaxis": {
             "endlinecolor": "#2a3f5f",
             "gridcolor": "white",
             "linecolor": "white",
             "minorgridcolor": "white",
             "startlinecolor": "#2a3f5f"
            },
            "baxis": {
             "endlinecolor": "#2a3f5f",
             "gridcolor": "white",
             "linecolor": "white",
             "minorgridcolor": "white",
             "startlinecolor": "#2a3f5f"
            },
            "type": "carpet"
           }
          ],
          "choropleth": [
           {
            "colorbar": {
             "outlinewidth": 0,
             "ticks": ""
            },
            "type": "choropleth"
           }
          ],
          "contour": [
           {
            "colorbar": {
             "outlinewidth": 0,
             "ticks": ""
            },
            "colorscale": [
             [
              0,
              "#0d0887"
             ],
             [
              0.1111111111111111,
              "#46039f"
             ],
             [
              0.2222222222222222,
              "#7201a8"
             ],
             [
              0.3333333333333333,
              "#9c179e"
             ],
             [
              0.4444444444444444,
              "#bd3786"
             ],
             [
              0.5555555555555556,
              "#d8576b"
             ],
             [
              0.6666666666666666,
              "#ed7953"
             ],
             [
              0.7777777777777778,
              "#fb9f3a"
             ],
             [
              0.8888888888888888,
              "#fdca26"
             ],
             [
              1,
              "#f0f921"
             ]
            ],
            "type": "contour"
           }
          ],
          "contourcarpet": [
           {
            "colorbar": {
             "outlinewidth": 0,
             "ticks": ""
            },
            "type": "contourcarpet"
           }
          ],
          "heatmap": [
           {
            "colorbar": {
             "outlinewidth": 0,
             "ticks": ""
            },
            "colorscale": [
             [
              0,
              "#0d0887"
             ],
             [
              0.1111111111111111,
              "#46039f"
             ],
             [
              0.2222222222222222,
              "#7201a8"
             ],
             [
              0.3333333333333333,
              "#9c179e"
             ],
             [
              0.4444444444444444,
              "#bd3786"
             ],
             [
              0.5555555555555556,
              "#d8576b"
             ],
             [
              0.6666666666666666,
              "#ed7953"
             ],
             [
              0.7777777777777778,
              "#fb9f3a"
             ],
             [
              0.8888888888888888,
              "#fdca26"
             ],
             [
              1,
              "#f0f921"
             ]
            ],
            "type": "heatmap"
           }
          ],
          "histogram": [
           {
            "marker": {
             "pattern": {
              "fillmode": "overlay",
              "size": 10,
              "solidity": 0.2
             }
            },
            "type": "histogram"
           }
          ],
          "histogram2d": [
           {
            "colorbar": {
             "outlinewidth": 0,
             "ticks": ""
            },
            "colorscale": [
             [
              0,
              "#0d0887"
             ],
             [
              0.1111111111111111,
              "#46039f"
             ],
             [
              0.2222222222222222,
              "#7201a8"
             ],
             [
              0.3333333333333333,
              "#9c179e"
             ],
             [
              0.4444444444444444,
              "#bd3786"
             ],
             [
              0.5555555555555556,
              "#d8576b"
             ],
             [
              0.6666666666666666,
              "#ed7953"
             ],
             [
              0.7777777777777778,
              "#fb9f3a"
             ],
             [
              0.8888888888888888,
              "#fdca26"
             ],
             [
              1,
              "#f0f921"
             ]
            ],
            "type": "histogram2d"
           }
          ],
          "histogram2dcontour": [
           {
            "colorbar": {
             "outlinewidth": 0,
             "ticks": ""
            },
            "colorscale": [
             [
              0,
              "#0d0887"
             ],
             [
              0.1111111111111111,
              "#46039f"
             ],
             [
              0.2222222222222222,
              "#7201a8"
             ],
             [
              0.3333333333333333,
              "#9c179e"
             ],
             [
              0.4444444444444444,
              "#bd3786"
             ],
             [
              0.5555555555555556,
              "#d8576b"
             ],
             [
              0.6666666666666666,
              "#ed7953"
             ],
             [
              0.7777777777777778,
              "#fb9f3a"
             ],
             [
              0.8888888888888888,
              "#fdca26"
             ],
             [
              1,
              "#f0f921"
             ]
            ],
            "type": "histogram2dcontour"
           }
          ],
          "mesh3d": [
           {
            "colorbar": {
             "outlinewidth": 0,
             "ticks": ""
            },
            "type": "mesh3d"
           }
          ],
          "parcoords": [
           {
            "line": {
             "colorbar": {
              "outlinewidth": 0,
              "ticks": ""
             }
            },
            "type": "parcoords"
           }
          ],
          "pie": [
           {
            "automargin": true,
            "type": "pie"
           }
          ],
          "scatter": [
           {
            "fillpattern": {
             "fillmode": "overlay",
             "size": 10,
             "solidity": 0.2
            },
            "type": "scatter"
           }
          ],
          "scatter3d": [
           {
            "line": {
             "colorbar": {
              "outlinewidth": 0,
              "ticks": ""
             }
            },
            "marker": {
             "colorbar": {
              "outlinewidth": 0,
              "ticks": ""
             }
            },
            "type": "scatter3d"
           }
          ],
          "scattercarpet": [
           {
            "marker": {
             "colorbar": {
              "outlinewidth": 0,
              "ticks": ""
             }
            },
            "type": "scattercarpet"
           }
          ],
          "scattergeo": [
           {
            "marker": {
             "colorbar": {
              "outlinewidth": 0,
              "ticks": ""
             }
            },
            "type": "scattergeo"
           }
          ],
          "scattergl": [
           {
            "marker": {
             "colorbar": {
              "outlinewidth": 0,
              "ticks": ""
             }
            },
            "type": "scattergl"
           }
          ],
          "scattermap": [
           {
            "marker": {
             "colorbar": {
              "outlinewidth": 0,
              "ticks": ""
             }
            },
            "type": "scattermap"
           }
          ],
          "scattermapbox": [
           {
            "marker": {
             "colorbar": {
              "outlinewidth": 0,
              "ticks": ""
             }
            },
            "type": "scattermapbox"
           }
          ],
          "scatterpolar": [
           {
            "marker": {
             "colorbar": {
              "outlinewidth": 0,
              "ticks": ""
             }
            },
            "type": "scatterpolar"
           }
          ],
          "scatterpolargl": [
           {
            "marker": {
             "colorbar": {
              "outlinewidth": 0,
              "ticks": ""
             }
            },
            "type": "scatterpolargl"
           }
          ],
          "scatterternary": [
           {
            "marker": {
             "colorbar": {
              "outlinewidth": 0,
              "ticks": ""
             }
            },
            "type": "scatterternary"
           }
          ],
          "surface": [
           {
            "colorbar": {
             "outlinewidth": 0,
             "ticks": ""
            },
            "colorscale": [
             [
              0,
              "#0d0887"
             ],
             [
              0.1111111111111111,
              "#46039f"
             ],
             [
              0.2222222222222222,
              "#7201a8"
             ],
             [
              0.3333333333333333,
              "#9c179e"
             ],
             [
              0.4444444444444444,
              "#bd3786"
             ],
             [
              0.5555555555555556,
              "#d8576b"
             ],
             [
              0.6666666666666666,
              "#ed7953"
             ],
             [
              0.7777777777777778,
              "#fb9f3a"
             ],
             [
              0.8888888888888888,
              "#fdca26"
             ],
             [
              1,
              "#f0f921"
             ]
            ],
            "type": "surface"
           }
          ],
          "table": [
           {
            "cells": {
             "fill": {
              "color": "#EBF0F8"
             },
             "line": {
              "color": "white"
             }
            },
            "header": {
             "fill": {
              "color": "#C8D4E3"
             },
             "line": {
              "color": "white"
             }
            },
            "type": "table"
           }
          ]
         },
         "layout": {
          "annotationdefaults": {
           "arrowcolor": "#2a3f5f",
           "arrowhead": 0,
           "arrowwidth": 1
          },
          "autotypenumbers": "strict",
          "coloraxis": {
           "colorbar": {
            "outlinewidth": 0,
            "ticks": ""
           }
          },
          "colorscale": {
           "diverging": [
            [
             0,
             "#8e0152"
            ],
            [
             0.1,
             "#c51b7d"
            ],
            [
             0.2,
             "#de77ae"
            ],
            [
             0.3,
             "#f1b6da"
            ],
            [
             0.4,
             "#fde0ef"
            ],
            [
             0.5,
             "#f7f7f7"
            ],
            [
             0.6,
             "#e6f5d0"
            ],
            [
             0.7,
             "#b8e186"
            ],
            [
             0.8,
             "#7fbc41"
            ],
            [
             0.9,
             "#4d9221"
            ],
            [
             1,
             "#276419"
            ]
           ],
           "sequential": [
            [
             0,
             "#0d0887"
            ],
            [
             0.1111111111111111,
             "#46039f"
            ],
            [
             0.2222222222222222,
             "#7201a8"
            ],
            [
             0.3333333333333333,
             "#9c179e"
            ],
            [
             0.4444444444444444,
             "#bd3786"
            ],
            [
             0.5555555555555556,
             "#d8576b"
            ],
            [
             0.6666666666666666,
             "#ed7953"
            ],
            [
             0.7777777777777778,
             "#fb9f3a"
            ],
            [
             0.8888888888888888,
             "#fdca26"
            ],
            [
             1,
             "#f0f921"
            ]
           ],
           "sequentialminus": [
            [
             0,
             "#0d0887"
            ],
            [
             0.1111111111111111,
             "#46039f"
            ],
            [
             0.2222222222222222,
             "#7201a8"
            ],
            [
             0.3333333333333333,
             "#9c179e"
            ],
            [
             0.4444444444444444,
             "#bd3786"
            ],
            [
             0.5555555555555556,
             "#d8576b"
            ],
            [
             0.6666666666666666,
             "#ed7953"
            ],
            [
             0.7777777777777778,
             "#fb9f3a"
            ],
            [
             0.8888888888888888,
             "#fdca26"
            ],
            [
             1,
             "#f0f921"
            ]
           ]
          },
          "colorway": [
           "#636efa",
           "#EF553B",
           "#00cc96",
           "#ab63fa",
           "#FFA15A",
           "#19d3f3",
           "#FF6692",
           "#B6E880",
           "#FF97FF",
           "#FECB52"
          ],
          "font": {
           "color": "#2a3f5f"
          },
          "geo": {
           "bgcolor": "white",
           "lakecolor": "white",
           "landcolor": "#E5ECF6",
           "showlakes": true,
           "showland": true,
           "subunitcolor": "white"
          },
          "hoverlabel": {
           "align": "left"
          },
          "hovermode": "closest",
          "mapbox": {
           "style": "light"
          },
          "paper_bgcolor": "white",
          "plot_bgcolor": "#E5ECF6",
          "polar": {
           "angularaxis": {
            "gridcolor": "white",
            "linecolor": "white",
            "ticks": ""
           },
           "bgcolor": "#E5ECF6",
           "radialaxis": {
            "gridcolor": "white",
            "linecolor": "white",
            "ticks": ""
           }
          },
          "scene": {
           "xaxis": {
            "backgroundcolor": "#E5ECF6",
            "gridcolor": "white",
            "gridwidth": 2,
            "linecolor": "white",
            "showbackground": true,
            "ticks": "",
            "zerolinecolor": "white"
           },
           "yaxis": {
            "backgroundcolor": "#E5ECF6",
            "gridcolor": "white",
            "gridwidth": 2,
            "linecolor": "white",
            "showbackground": true,
            "ticks": "",
            "zerolinecolor": "white"
           },
           "zaxis": {
            "backgroundcolor": "#E5ECF6",
            "gridcolor": "white",
            "gridwidth": 2,
            "linecolor": "white",
            "showbackground": true,
            "ticks": "",
            "zerolinecolor": "white"
           }
          },
          "shapedefaults": {
           "line": {
            "color": "#2a3f5f"
           }
          },
          "ternary": {
           "aaxis": {
            "gridcolor": "white",
            "linecolor": "white",
            "ticks": ""
           },
           "baxis": {
            "gridcolor": "white",
            "linecolor": "white",
            "ticks": ""
           },
           "bgcolor": "#E5ECF6",
           "caxis": {
            "gridcolor": "white",
            "linecolor": "white",
            "ticks": ""
           }
          },
          "title": {
           "x": 0.05
          },
          "xaxis": {
           "automargin": true,
           "gridcolor": "white",
           "linecolor": "white",
           "ticks": "",
           "title": {
            "standoff": 15
           },
           "zerolinecolor": "white",
           "zerolinewidth": 2
          },
          "yaxis": {
           "automargin": true,
           "gridcolor": "white",
           "linecolor": "white",
           "ticks": "",
           "title": {
            "standoff": 15
           },
           "zerolinecolor": "white",
           "zerolinewidth": 2
          }
         }
        },
        "title": {
         "text": "Optimization History Plot"
        },
        "xaxis": {
         "title": {
          "text": "Trial"
         }
        },
        "yaxis": {
         "title": {
          "text": "Objective Value"
         }
        }
       }
      }
     },
     "metadata": {},
     "output_type": "display_data"
    }
   ],
   "source": [
    "# Historial de optimización (trials vs ganancia)\n",
    "\n",
    "plot_optimization_history(study)\n"
   ]
  },
  {
   "cell_type": "code",
   "execution_count": null,
   "metadata": {},
   "outputs": [
    {
     "data": {
      "application/vnd.plotly.v1+json": {
       "config": {
        "plotlyServerURL": "https://plot.ly"
       },
       "data": [
        {
         "cliponaxis": false,
         "hovertemplate": [
          "lambda_l1 (FloatDistribution): 0.001950398154213285<extra></extra>",
          "lambda_l2 (FloatDistribution): 0.0023699366797775164<extra></extra>",
          "learning_rate (FloatDistribution): 0.0049072261967887465<extra></extra>",
          "min_data_in_leaf (IntDistribution): 0.008099667453272353<extra></extra>",
          "bagging_freq (IntDistribution): 0.009753875292122068<extra></extra>",
          "feature_fraction (FloatDistribution): 0.016951362377695126<extra></extra>",
          "max_depth (IntDistribution): 0.0279211452740067<extra></extra>",
          "bagging_fraction (FloatDistribution): 0.08251388334284773<extra></extra>",
          "num_leaves (IntDistribution): 0.0844099063626569<extra></extra>",
          "num_boost_round (IntDistribution): 0.22934872450369878<extra></extra>",
          "min_gain_to_split (FloatDistribution): 0.5317738743629209<extra></extra>"
         ],
         "name": "Objective Value",
         "orientation": "h",
         "text": [
          "<0.01",
          "<0.01",
          "<0.01",
          "<0.01",
          "<0.01",
          "0.02",
          "0.03",
          "0.08",
          "0.08",
          "0.23",
          "0.53"
         ],
         "textposition": "outside",
         "type": "bar",
         "x": [
          0.001950398154213285,
          0.0023699366797775164,
          0.0049072261967887465,
          0.008099667453272353,
          0.009753875292122068,
          0.016951362377695126,
          0.0279211452740067,
          0.08251388334284773,
          0.0844099063626569,
          0.22934872450369878,
          0.5317738743629209
         ],
         "y": [
          "lambda_l1",
          "lambda_l2",
          "learning_rate",
          "min_data_in_leaf",
          "bagging_freq",
          "feature_fraction",
          "max_depth",
          "bagging_fraction",
          "num_leaves",
          "num_boost_round",
          "min_gain_to_split"
         ]
        }
       ],
       "layout": {
        "template": {
         "data": {
          "bar": [
           {
            "error_x": {
             "color": "#2a3f5f"
            },
            "error_y": {
             "color": "#2a3f5f"
            },
            "marker": {
             "line": {
              "color": "#E5ECF6",
              "width": 0.5
             },
             "pattern": {
              "fillmode": "overlay",
              "size": 10,
              "solidity": 0.2
             }
            },
            "type": "bar"
           }
          ],
          "barpolar": [
           {
            "marker": {
             "line": {
              "color": "#E5ECF6",
              "width": 0.5
             },
             "pattern": {
              "fillmode": "overlay",
              "size": 10,
              "solidity": 0.2
             }
            },
            "type": "barpolar"
           }
          ],
          "carpet": [
           {
            "aaxis": {
             "endlinecolor": "#2a3f5f",
             "gridcolor": "white",
             "linecolor": "white",
             "minorgridcolor": "white",
             "startlinecolor": "#2a3f5f"
            },
            "baxis": {
             "endlinecolor": "#2a3f5f",
             "gridcolor": "white",
             "linecolor": "white",
             "minorgridcolor": "white",
             "startlinecolor": "#2a3f5f"
            },
            "type": "carpet"
           }
          ],
          "choropleth": [
           {
            "colorbar": {
             "outlinewidth": 0,
             "ticks": ""
            },
            "type": "choropleth"
           }
          ],
          "contour": [
           {
            "colorbar": {
             "outlinewidth": 0,
             "ticks": ""
            },
            "colorscale": [
             [
              0,
              "#0d0887"
             ],
             [
              0.1111111111111111,
              "#46039f"
             ],
             [
              0.2222222222222222,
              "#7201a8"
             ],
             [
              0.3333333333333333,
              "#9c179e"
             ],
             [
              0.4444444444444444,
              "#bd3786"
             ],
             [
              0.5555555555555556,
              "#d8576b"
             ],
             [
              0.6666666666666666,
              "#ed7953"
             ],
             [
              0.7777777777777778,
              "#fb9f3a"
             ],
             [
              0.8888888888888888,
              "#fdca26"
             ],
             [
              1,
              "#f0f921"
             ]
            ],
            "type": "contour"
           }
          ],
          "contourcarpet": [
           {
            "colorbar": {
             "outlinewidth": 0,
             "ticks": ""
            },
            "type": "contourcarpet"
           }
          ],
          "heatmap": [
           {
            "colorbar": {
             "outlinewidth": 0,
             "ticks": ""
            },
            "colorscale": [
             [
              0,
              "#0d0887"
             ],
             [
              0.1111111111111111,
              "#46039f"
             ],
             [
              0.2222222222222222,
              "#7201a8"
             ],
             [
              0.3333333333333333,
              "#9c179e"
             ],
             [
              0.4444444444444444,
              "#bd3786"
             ],
             [
              0.5555555555555556,
              "#d8576b"
             ],
             [
              0.6666666666666666,
              "#ed7953"
             ],
             [
              0.7777777777777778,
              "#fb9f3a"
             ],
             [
              0.8888888888888888,
              "#fdca26"
             ],
             [
              1,
              "#f0f921"
             ]
            ],
            "type": "heatmap"
           }
          ],
          "histogram": [
           {
            "marker": {
             "pattern": {
              "fillmode": "overlay",
              "size": 10,
              "solidity": 0.2
             }
            },
            "type": "histogram"
           }
          ],
          "histogram2d": [
           {
            "colorbar": {
             "outlinewidth": 0,
             "ticks": ""
            },
            "colorscale": [
             [
              0,
              "#0d0887"
             ],
             [
              0.1111111111111111,
              "#46039f"
             ],
             [
              0.2222222222222222,
              "#7201a8"
             ],
             [
              0.3333333333333333,
              "#9c179e"
             ],
             [
              0.4444444444444444,
              "#bd3786"
             ],
             [
              0.5555555555555556,
              "#d8576b"
             ],
             [
              0.6666666666666666,
              "#ed7953"
             ],
             [
              0.7777777777777778,
              "#fb9f3a"
             ],
             [
              0.8888888888888888,
              "#fdca26"
             ],
             [
              1,
              "#f0f921"
             ]
            ],
            "type": "histogram2d"
           }
          ],
          "histogram2dcontour": [
           {
            "colorbar": {
             "outlinewidth": 0,
             "ticks": ""
            },
            "colorscale": [
             [
              0,
              "#0d0887"
             ],
             [
              0.1111111111111111,
              "#46039f"
             ],
             [
              0.2222222222222222,
              "#7201a8"
             ],
             [
              0.3333333333333333,
              "#9c179e"
             ],
             [
              0.4444444444444444,
              "#bd3786"
             ],
             [
              0.5555555555555556,
              "#d8576b"
             ],
             [
              0.6666666666666666,
              "#ed7953"
             ],
             [
              0.7777777777777778,
              "#fb9f3a"
             ],
             [
              0.8888888888888888,
              "#fdca26"
             ],
             [
              1,
              "#f0f921"
             ]
            ],
            "type": "histogram2dcontour"
           }
          ],
          "mesh3d": [
           {
            "colorbar": {
             "outlinewidth": 0,
             "ticks": ""
            },
            "type": "mesh3d"
           }
          ],
          "parcoords": [
           {
            "line": {
             "colorbar": {
              "outlinewidth": 0,
              "ticks": ""
             }
            },
            "type": "parcoords"
           }
          ],
          "pie": [
           {
            "automargin": true,
            "type": "pie"
           }
          ],
          "scatter": [
           {
            "fillpattern": {
             "fillmode": "overlay",
             "size": 10,
             "solidity": 0.2
            },
            "type": "scatter"
           }
          ],
          "scatter3d": [
           {
            "line": {
             "colorbar": {
              "outlinewidth": 0,
              "ticks": ""
             }
            },
            "marker": {
             "colorbar": {
              "outlinewidth": 0,
              "ticks": ""
             }
            },
            "type": "scatter3d"
           }
          ],
          "scattercarpet": [
           {
            "marker": {
             "colorbar": {
              "outlinewidth": 0,
              "ticks": ""
             }
            },
            "type": "scattercarpet"
           }
          ],
          "scattergeo": [
           {
            "marker": {
             "colorbar": {
              "outlinewidth": 0,
              "ticks": ""
             }
            },
            "type": "scattergeo"
           }
          ],
          "scattergl": [
           {
            "marker": {
             "colorbar": {
              "outlinewidth": 0,
              "ticks": ""
             }
            },
            "type": "scattergl"
           }
          ],
          "scattermap": [
           {
            "marker": {
             "colorbar": {
              "outlinewidth": 0,
              "ticks": ""
             }
            },
            "type": "scattermap"
           }
          ],
          "scattermapbox": [
           {
            "marker": {
             "colorbar": {
              "outlinewidth": 0,
              "ticks": ""
             }
            },
            "type": "scattermapbox"
           }
          ],
          "scatterpolar": [
           {
            "marker": {
             "colorbar": {
              "outlinewidth": 0,
              "ticks": ""
             }
            },
            "type": "scatterpolar"
           }
          ],
          "scatterpolargl": [
           {
            "marker": {
             "colorbar": {
              "outlinewidth": 0,
              "ticks": ""
             }
            },
            "type": "scatterpolargl"
           }
          ],
          "scatterternary": [
           {
            "marker": {
             "colorbar": {
              "outlinewidth": 0,
              "ticks": ""
             }
            },
            "type": "scatterternary"
           }
          ],
          "surface": [
           {
            "colorbar": {
             "outlinewidth": 0,
             "ticks": ""
            },
            "colorscale": [
             [
              0,
              "#0d0887"
             ],
             [
              0.1111111111111111,
              "#46039f"
             ],
             [
              0.2222222222222222,
              "#7201a8"
             ],
             [
              0.3333333333333333,
              "#9c179e"
             ],
             [
              0.4444444444444444,
              "#bd3786"
             ],
             [
              0.5555555555555556,
              "#d8576b"
             ],
             [
              0.6666666666666666,
              "#ed7953"
             ],
             [
              0.7777777777777778,
              "#fb9f3a"
             ],
             [
              0.8888888888888888,
              "#fdca26"
             ],
             [
              1,
              "#f0f921"
             ]
            ],
            "type": "surface"
           }
          ],
          "table": [
           {
            "cells": {
             "fill": {
              "color": "#EBF0F8"
             },
             "line": {
              "color": "white"
             }
            },
            "header": {
             "fill": {
              "color": "#C8D4E3"
             },
             "line": {
              "color": "white"
             }
            },
            "type": "table"
           }
          ]
         },
         "layout": {
          "annotationdefaults": {
           "arrowcolor": "#2a3f5f",
           "arrowhead": 0,
           "arrowwidth": 1
          },
          "autotypenumbers": "strict",
          "coloraxis": {
           "colorbar": {
            "outlinewidth": 0,
            "ticks": ""
           }
          },
          "colorscale": {
           "diverging": [
            [
             0,
             "#8e0152"
            ],
            [
             0.1,
             "#c51b7d"
            ],
            [
             0.2,
             "#de77ae"
            ],
            [
             0.3,
             "#f1b6da"
            ],
            [
             0.4,
             "#fde0ef"
            ],
            [
             0.5,
             "#f7f7f7"
            ],
            [
             0.6,
             "#e6f5d0"
            ],
            [
             0.7,
             "#b8e186"
            ],
            [
             0.8,
             "#7fbc41"
            ],
            [
             0.9,
             "#4d9221"
            ],
            [
             1,
             "#276419"
            ]
           ],
           "sequential": [
            [
             0,
             "#0d0887"
            ],
            [
             0.1111111111111111,
             "#46039f"
            ],
            [
             0.2222222222222222,
             "#7201a8"
            ],
            [
             0.3333333333333333,
             "#9c179e"
            ],
            [
             0.4444444444444444,
             "#bd3786"
            ],
            [
             0.5555555555555556,
             "#d8576b"
            ],
            [
             0.6666666666666666,
             "#ed7953"
            ],
            [
             0.7777777777777778,
             "#fb9f3a"
            ],
            [
             0.8888888888888888,
             "#fdca26"
            ],
            [
             1,
             "#f0f921"
            ]
           ],
           "sequentialminus": [
            [
             0,
             "#0d0887"
            ],
            [
             0.1111111111111111,
             "#46039f"
            ],
            [
             0.2222222222222222,
             "#7201a8"
            ],
            [
             0.3333333333333333,
             "#9c179e"
            ],
            [
             0.4444444444444444,
             "#bd3786"
            ],
            [
             0.5555555555555556,
             "#d8576b"
            ],
            [
             0.6666666666666666,
             "#ed7953"
            ],
            [
             0.7777777777777778,
             "#fb9f3a"
            ],
            [
             0.8888888888888888,
             "#fdca26"
            ],
            [
             1,
             "#f0f921"
            ]
           ]
          },
          "colorway": [
           "#636efa",
           "#EF553B",
           "#00cc96",
           "#ab63fa",
           "#FFA15A",
           "#19d3f3",
           "#FF6692",
           "#B6E880",
           "#FF97FF",
           "#FECB52"
          ],
          "font": {
           "color": "#2a3f5f"
          },
          "geo": {
           "bgcolor": "white",
           "lakecolor": "white",
           "landcolor": "#E5ECF6",
           "showlakes": true,
           "showland": true,
           "subunitcolor": "white"
          },
          "hoverlabel": {
           "align": "left"
          },
          "hovermode": "closest",
          "mapbox": {
           "style": "light"
          },
          "paper_bgcolor": "white",
          "plot_bgcolor": "#E5ECF6",
          "polar": {
           "angularaxis": {
            "gridcolor": "white",
            "linecolor": "white",
            "ticks": ""
           },
           "bgcolor": "#E5ECF6",
           "radialaxis": {
            "gridcolor": "white",
            "linecolor": "white",
            "ticks": ""
           }
          },
          "scene": {
           "xaxis": {
            "backgroundcolor": "#E5ECF6",
            "gridcolor": "white",
            "gridwidth": 2,
            "linecolor": "white",
            "showbackground": true,
            "ticks": "",
            "zerolinecolor": "white"
           },
           "yaxis": {
            "backgroundcolor": "#E5ECF6",
            "gridcolor": "white",
            "gridwidth": 2,
            "linecolor": "white",
            "showbackground": true,
            "ticks": "",
            "zerolinecolor": "white"
           },
           "zaxis": {
            "backgroundcolor": "#E5ECF6",
            "gridcolor": "white",
            "gridwidth": 2,
            "linecolor": "white",
            "showbackground": true,
            "ticks": "",
            "zerolinecolor": "white"
           }
          },
          "shapedefaults": {
           "line": {
            "color": "#2a3f5f"
           }
          },
          "ternary": {
           "aaxis": {
            "gridcolor": "white",
            "linecolor": "white",
            "ticks": ""
           },
           "baxis": {
            "gridcolor": "white",
            "linecolor": "white",
            "ticks": ""
           },
           "bgcolor": "#E5ECF6",
           "caxis": {
            "gridcolor": "white",
            "linecolor": "white",
            "ticks": ""
           }
          },
          "title": {
           "x": 0.05
          },
          "xaxis": {
           "automargin": true,
           "gridcolor": "white",
           "linecolor": "white",
           "ticks": "",
           "title": {
            "standoff": 15
           },
           "zerolinecolor": "white",
           "zerolinewidth": 2
          },
          "yaxis": {
           "automargin": true,
           "gridcolor": "white",
           "linecolor": "white",
           "ticks": "",
           "title": {
            "standoff": 15
           },
           "zerolinecolor": "white",
           "zerolinewidth": 2
          }
         }
        },
        "title": {
         "text": "Hyperparameter Importances"
        },
        "xaxis": {
         "title": {
          "text": "Hyperparameter Importance"
         }
        },
        "yaxis": {
         "title": {
          "text": "Hyperparameter"
         }
        }
       }
      }
     },
     "metadata": {},
     "output_type": "display_data"
    }
   ],
   "source": [
    "# Importancia de los HP (da una idea más bien de cuanta variabilidad aporta cada HP). Importante para recortar espacio de búsqueda en futuras optimizaciones\n",
    "\n",
    "plot_param_importances(study)"
   ]
  },
  {
   "cell_type": "code",
   "execution_count": 17,
   "metadata": {
    "id": "YdI1_i1t5xdM"
   },
   "outputs": [
    {
     "name": "stdout",
     "output_type": "stream",
     "text": [
      "🔎 Trial 113\n",
      "🎯 Métrica: 916960000.0\n",
      "🧪 Best Iter: 1197\n",
      "\n",
      "⚙️ Hiperparámetros:\n",
      "   objective: binary\n",
      "   boosting_type: gbdt\n",
      "   first_metric_only: True\n",
      "   boost_from_average: True\n",
      "   feature_pre_filter: False\n",
      "   max_bin: 31\n",
      "   verbose: -1\n",
      "   num_leaves: 84\n",
      "   learning_rate: 0.022781668824537155\n",
      "   min_data_in_leaf: 19\n",
      "   feature_fraction: 0.7810058700513337\n",
      "   bagging_fraction: 0.8694808899659255\n",
      "   bagging_freq: 7\n",
      "   lambda_l1: 0.0018940393703961173\n",
      "   lambda_l2: 1.8064379244551527\n",
      "   min_gain_to_split: 0.18555044398470172\n",
      "   max_depth: 20\n"
     ]
    }
   ],
   "source": [
    "# Elegir el trial\n",
    "trial_number = 113\n",
    "trial = study.trials[trial_number]\n",
    "\n",
    "# Recuperar valores\n",
    "best_params = trial.params\n",
    "best_value = trial.value\n",
    "best_iter = trial.user_attrs.get(\"best_iter\", None)\n",
    "\n",
    "best_target = 'binaria2'\n",
    "\n",
    "best_params = {\n",
    "        'objective': 'binary',\n",
    "        'boosting_type': 'gbdt',\n",
    "        'first_metric_only': True,\n",
    "        'boost_from_average': True,\n",
    "        'feature_pre_filter': False,\n",
    "        'max_bin': 31,\n",
    "        'verbose': -1\n",
    "}\n",
    "\n",
    "best_params.update(trial.params)\n",
    "best_params.pop('num_boost_round', None) # lightgbm no espera este parámetro en params, si no como argumento aparte en num_boost_round. Pero a ese le pongo el best_iter\n",
    "\n",
    "print(f\"🔎 Trial {trial.number}\")\n",
    "print(f\"🎯 Métrica: {best_value}\")\n",
    "print(f\"🧪 Best Iter: {best_iter}\\n\")\n",
    "print(\"⚙️ Hiperparámetros:\")\n",
    "for k, v in best_params.items():\n",
    "    print(f\"   {k}: {v}\")"
   ]
  },
  {
   "cell_type": "code",
   "execution_count": null,
   "metadata": {
    "id": "vCazftIl5xdM"
   },
   "outputs": [],
   "source": [
    "# Función de ganancia acumulada con umbral óptimo. Sirve para buscar umbral óptimo del mes de validación (abril)\n",
    "\n",
    "def mejor_umbral_probabilidad(y_pred, weights):\n",
    "    \"\"\"\n",
    "    Encuentra el umbral de probabilidad óptimo en lugar del N óptimo.\n",
    "    \n",
    "    Calcula ganancia usando los pesos para identificar BAJA+2:\n",
    "    - weights: clase_peso donde 1.00002 = BAJA+2, 1.00001 = BAJA+1, 1.0 = CONTINUA\n",
    "    - Ganancia NETA por envío:\n",
    "        * Si acertás BAJA+2: +ganancia_acierto - costo_estimulo\n",
    "        * Si fallás (BAJA+1 o CONTINUA): -costo_estimulo\n",
    "    \n",
    "    Usa las variables globales: ganancia_acierto y costo_estimulo\n",
    "    \n",
    "    Returns:\n",
    "        umbral_optimo: el umbral de probabilidad que maximiza ganancia\n",
    "        N_en_umbral: cuántos casos quedan por encima de ese umbral\n",
    "        ganancia_max: la ganancia máxima obtenida\n",
    "        curva: tupla (ns, ganancias, umbrales) para graficar\n",
    "    \"\"\"\n",
    "    # Filtrar valores finitos\n",
    "    mask = np.isfinite(y_pred)\n",
    "    y_pred = np.array(y_pred)[mask]\n",
    "    weights = np.array(weights)[mask]\n",
    "    \n",
    "    # Ordenar por probabilidad descendente\n",
    "    orden = np.argsort(y_pred)[::-1]\n",
    "    y_pred_sorted = y_pred[orden]\n",
    "    weights_sorted = weights[orden]\n",
    "    \n",
    "    # Ganancia NETA por envío:\n",
    "    # - BAJA+2 (peso 1.00002): ganamos ganancia_acierto pero pagamos costo_estimulo\n",
    "    # - Otros: solo perdemos el costo_estimulo\n",
    "    ganancias = np.where(\n",
    "        weights_sorted == 1.00002, \n",
    "        ganancia_acierto - costo_estimulo,  # <- usa las variables globales\n",
    "        -costo_estimulo\n",
    "    )\n",
    "    \n",
    "    gan_acum = np.cumsum(ganancias)\n",
    "    \n",
    "    if len(gan_acum) == 0:\n",
    "        return 0, 0, 0, ([], [], [])\n",
    "    \n",
    "    # Buscar máximo en el primer 70% (igual que tu función original)\n",
    "    limite_busqueda = int(len(gan_acum) * 0.7)\n",
    "    idx_max = np.argmax(gan_acum[:limite_busqueda])\n",
    "    \n",
    "    ganancia_max = gan_acum[idx_max]\n",
    "    N_optimo = idx_max + 1\n",
    "    umbral_optimo = y_pred_sorted[idx_max]\n",
    "    \n",
    "    # Preparar curva para graficar\n",
    "    ns = list(range(1, len(gan_acum) + 1))\n",
    "    umbrales = list(y_pred_sorted)\n",
    "    \n",
    "    return umbral_optimo, N_optimo, ganancia_max, (ns, gan_acum, umbrales)"
   ]
  },
  {
   "cell_type": "code",
   "execution_count": null,
   "metadata": {},
   "outputs": [],
   "source": [
    "\n",
    "# EVALUACIÓN MULTISEMILLA CON ENSEMBLE Y UMBRAL DEL ENSEMBLE\n",
    "# Preparar datos de validación (abril) y test final (junio)\n",
    "\n",
    "valid_data = data[data['foto_mes'] == mes_valid]\n",
    "test_data = data[data['foto_mes'] == mes_test_final]\n",
    "\n",
    "cols_to_drop_eval = ['clase_ternaria', 'clase_peso', 'clase_binaria1', 'clase_binaria2']\n",
    "if eliminar_columnas_id:\n",
    "    cols_to_drop_eval += cols_id\n",
    "\n",
    "X_valid = valid_data.drop(columns=cols_to_drop_eval, errors='ignore')\n",
    "w_valid = valid_data['clase_peso']\n",
    "X_test = test_data.drop(columns=cols_to_drop_eval, errors='ignore')\n",
    "\n",
    "train_data_initial = data[data['foto_mes'].isin(meses_train)]\n",
    "X_train_initial = train_data_initial.drop(columns=cols_to_drop_eval, errors='ignore')\n",
    "y_train_initial_bin1 = train_data_initial['clase_binaria1']\n",
    "y_train_initial_bin2 = train_data_initial['clase_binaria2']\n",
    "w_train_initial = train_data_initial['clase_peso']\n",
    "\n",
    "meses_completos = meses_train + [mes_valid]\n",
    "train_valid_data = data[data['foto_mes'].isin(meses_completos)]\n",
    "X_train_valid = train_valid_data.drop(columns=cols_to_drop_eval, errors='ignore')\n",
    "y_train_valid_bin1 = train_valid_data['clase_binaria1']\n",
    "y_train_valid_bin2 = train_valid_data['clase_binaria2']\n",
    "w_train_valid = train_valid_data['clase_peso']"
   ]
  },
  {
   "cell_type": "code",
   "execution_count": null,
   "metadata": {},
   "outputs": [
    {
     "name": "stdout",
     "output_type": "stream",
     "text": [
      "\n",
      "============================================================\n",
      "🌱 ENTRENANDO MODELOS Y PREDICIENDO EN ABRIL\n",
      "============================================================\n",
      "\n",
      "🌱 Semilla 181459 (1/10)\n",
      "   📊 Umbral individual: 0.028007, N=8072, Ganancia=$354,140,000\n",
      "   ✅ Predicciones de abril y junio guardadas\n",
      "\n",
      "🌱 Semilla 306491 (2/10)\n",
      "   📊 Umbral individual: 0.018153, N=10718, Ganancia=$355,820,000\n",
      "   ✅ Predicciones de abril y junio guardadas\n",
      "\n",
      "🌱 Semilla 336251 (3/10)\n",
      "   📊 Umbral individual: 0.015892, N=11592, Ganancia=$357,840,000\n",
      "   ✅ Predicciones de abril y junio guardadas\n",
      "\n",
      "🌱 Semilla 900577 (4/10)\n",
      "   📊 Umbral individual: 0.016319, N=11506, Ganancia=$357,220,000\n",
      "   ✅ Predicciones de abril y junio guardadas\n",
      "\n",
      "🌱 Semilla 901751 (5/10)\n",
      "   📊 Umbral individual: 0.023214, N=9106, Ganancia=$358,420,000\n",
      "   ✅ Predicciones de abril y junio guardadas\n",
      "\n",
      "🌱 Semilla 182009 (6/10)\n",
      "   📊 Umbral individual: 0.020418, N=9845, Ganancia=$357,680,000\n",
      "   ✅ Predicciones de abril y junio guardadas\n",
      "\n",
      "🌱 Semilla 182011 (7/10)\n",
      "   📊 Umbral individual: 0.022290, N=9412, Ganancia=$360,100,000\n",
      "   ✅ Predicciones de abril y junio guardadas\n",
      "\n",
      "🌱 Semilla 182027 (8/10)\n",
      "   📊 Umbral individual: 0.021519, N=9490, Ganancia=$354,640,000\n",
      "   ✅ Predicciones de abril y junio guardadas\n",
      "\n",
      "🌱 Semilla 182029 (9/10)\n",
      "   📊 Umbral individual: 0.016583, N=11438, Ganancia=$355,460,000\n",
      "   ✅ Predicciones de abril y junio guardadas\n",
      "\n",
      "🌱 Semilla 182041 (10/10)\n",
      "   📊 Umbral individual: 0.015067, N=12161, Ganancia=$355,820,000\n",
      "   ✅ Predicciones de abril y junio guardadas\n"
     ]
    }
   ],
   "source": [
    "# Paso 1: \n",
    "# Para cada semilla: Entrenar y predecir en abril. Luego re-entrenar con todos los meses y predecir en junio.\n",
    "\n",
    "print(f\"\\n{'='*60}\")\n",
    "print(\"🌱 ENTRENANDO MODELOS Y PREDICIENDO EN ABRIL\")\n",
    "print(f\"{'='*60}\")\n",
    "\n",
    "probabilidades_abril_todas_semillas = []\n",
    "probabilidades_junio_todas_semillas = []\n",
    "umbrales_individuales = []  # Por si querés comparar\n",
    "ganancias_por_seed = {}\n",
    "\n",
    "for i, seed in enumerate(semillas):\n",
    "    print(f\"\\n🌱 Semilla {seed} ({i+1}/{len(semillas)})\")\n",
    "    params_seed = best_params.copy()\n",
    "    params_seed['seed'] = seed\n",
    "\n",
    "    # --- ENTRENAR CON MESES DE TRAIN (Ene+Feb+Mar) ---\n",
    "    y_final = y_train_initial_bin1 if best_target == \"binaria1\" else y_train_initial_bin2\n",
    "    train_dataset = lgb.Dataset(X_train_initial, label=y_final, weight=w_train_initial)\n",
    "    \n",
    "    model_abril = lgb.train(params_seed, train_dataset, num_boost_round=best_iter)\n",
    "    \n",
    "    # --- PREDECIR EN ABRIL ---\n",
    "    y_pred_abril = model_abril.predict(X_valid)\n",
    "    probabilidades_abril_todas_semillas.append(y_pred_abril)\n",
    "    \n",
    "    # Guardar umbral individual para comparar\n",
    "    umbral_ind, N_ind, gan_ind, gan_curve = mejor_umbral_probabilidad(y_pred_abril, w_valid)\n",
    "    umbrales_individuales.append(umbral_ind)\n",
    "    ganancias_por_seed[seed] = gan_curve\n",
    "    print(f\"   📊 Umbral individual: {umbral_ind:.6f}, N={N_ind}, Ganancia=${gan_ind:,.0f}\")\n",
    "    \n",
    "    # --- RE-ENTRENAR CON TODOS LOS MESES (Ene+Feb+Mar+Abril) ---\n",
    "    y_train_valid = y_train_valid_bin1 if best_target == \"binaria1\" else y_train_valid_bin2\n",
    "    train_data_combined = lgb.Dataset(X_train_valid, label=y_train_valid, weight=w_train_valid)\n",
    "    model_final = lgb.train(params_seed, train_data_combined, num_boost_round=best_iter)\n",
    "    \n",
    "    # --- PREDECIR EN JUNIO ---\n",
    "    y_pred_junio = model_final.predict(X_test)\n",
    "    probabilidades_junio_todas_semillas.append(y_pred_junio)\n",
    "    print(f\"   ✅ Predicciones de abril y junio guardadas\")"
   ]
  },
  {
   "cell_type": "code",
   "execution_count": null,
   "metadata": {},
   "outputs": [
    {
     "name": "stdout",
     "output_type": "stream",
     "text": [
      "\n",
      "============================================================\n",
      "🎯 CREANDO ENSEMBLE DE ABRIL Y OPTIMIZANDO UMBRAL\n",
      "============================================================\n",
      "📊 Ensemble de abril creado:\n",
      "   - Forma de matriz: (10, 163418)\n",
      "   - Probabilidades promedio: (163418,)\n",
      "\n",
      "✅ UMBRAL ÓPTIMO DEL ENSEMBLE: 0.021360\n",
      "   📊 N en ese umbral: 9757\n",
      "   💰 Ganancia máxima: $361,780,000\n",
      "\n",
      "📊 COMPARACIÓN:\n",
      "   Umbral del ensemble:        0.021360\n",
      "   Umbral promedio individual: 0.019746\n",
      "   Diferencia:                 0.001614\n",
      "   Desv. estándar individuales: 0.003891\n"
     ]
    }
   ],
   "source": [
    "# Paso 2: Crear ENSEMBLE de abril (promediar probabilidades predichas) y encontrar umbral óptimo que maximiza la ganancia con la funcion mejor_umbral_probabilidad\n",
    "\n",
    "print(f\"\\n{'='*60}\")\n",
    "print(\"🎯 CREANDO ENSEMBLE DE ABRIL Y OPTIMIZANDO UMBRAL\")\n",
    "print(f\"{'='*60}\")\n",
    "\n",
    "# Promediar probabilidades de abril entre todas las semillas\n",
    "matriz_abril = np.array(probabilidades_abril_todas_semillas)  # shape: (n_semillas, n_registros)\n",
    "probabilidades_abril_ensemble = np.mean(matriz_abril, axis=0)\n",
    "\n",
    "print(f\"📊 Ensemble de abril creado:\")\n",
    "print(f\"   - Forma de matriz: {matriz_abril.shape}\")\n",
    "print(f\"   - Probabilidades promedio: {probabilidades_abril_ensemble.shape}\")\n",
    "\n",
    "# Encontrar umbral óptimo DEL ENSEMBLE\n",
    "umbral_ensemble, N_ensemble, ganancia_ensemble, curva_ensemble = mejor_umbral_probabilidad(\n",
    "    probabilidades_abril_ensemble, \n",
    "    w_valid\n",
    ")\n",
    "\n",
    "print(f\"\\n✅ UMBRAL ÓPTIMO DEL ENSEMBLE: {umbral_ensemble:.6f}\")\n",
    "print(f\"   📊 N en ese umbral: {N_ensemble}\")\n",
    "print(f\"   💰 Ganancia máxima: ${ganancia_ensemble:,.0f}\")\n",
    "\n",
    "# Comparar con umbral promedio de los individuales\n",
    "umbral_promedio_individual = np.mean(umbrales_individuales)\n",
    "print(f\"\\n📊 COMPARACIÓN:\")\n",
    "print(f\"   Umbral del ensemble:        {umbral_ensemble:.6f}\")\n",
    "print(f\"   Umbral promedio individual: {umbral_promedio_individual:.6f}\")\n",
    "print(f\"   Diferencia:                 {abs(umbral_ensemble - umbral_promedio_individual):.6f}\")\n",
    "print(f\"   Desv. estándar individuales: {np.std(umbrales_individuales):.6f}\")"
   ]
  },
  {
   "cell_type": "code",
   "execution_count": null,
   "metadata": {},
   "outputs": [
    {
     "data": {
      "text/plain": [
       "0.021360187124262603"
      ]
     },
     "execution_count": 88,
     "metadata": {},
     "output_type": "execute_result"
    }
   ],
   "source": [
    "umbral_ensemble # umbral óptimo del ensemble del mes de abril"
   ]
  },
  {
   "cell_type": "code",
   "execution_count": null,
   "metadata": {},
   "outputs": [],
   "source": [
    "umbral_junio = umbral_ensemble * 0.82 # ajusto a mano el umbral para junio guiandome por la tendencia de los targets los meses previos"
   ]
  },
  {
   "cell_type": "code",
   "execution_count": null,
   "metadata": {},
   "outputs": [
    {
     "name": "stdout",
     "output_type": "stream",
     "text": [
      "\n",
      "============================================================\n",
      "🚀 CREANDO ENSEMBLE DE JUNIO Y APLICANDO UMBRAL\n",
      "============================================================\n",
      "📊 Ensemble de junio creado:\n",
      "   - Forma de matriz: (10, 164313)\n",
      "   - Probabilidades promedio: (164313,)\n",
      "   - Min prob: 0.000003\n",
      "   - Max prob: 0.972633\n",
      "   - Media prob: 0.008155\n",
      "\n",
      "✅ PREDICCIÓN FINAL CON ENSEMBLE:\n",
      "   🎯 Umbral usado: 0.017515\n",
      "   📮 Clientes marcados: 11,988\n",
      "   📊 Proporción de positivos: 7.30%\n"
     ]
    }
   ],
   "source": [
    "# Paso 3: Crear ENSEMBLE de junio y aplicar umbral\n",
    "\n",
    "print(f\"\\n{'='*60}\")\n",
    "print(\"🚀 CREANDO ENSEMBLE DE JUNIO Y APLICANDO UMBRAL\")\n",
    "print(f\"{'='*60}\")\n",
    "\n",
    "# Promediar probabilidades de junio entre todas las semillas\n",
    "matriz_junio = np.array(probabilidades_junio_todas_semillas)\n",
    "probabilidades_junio_ensemble = np.mean(matriz_junio, axis=0)\n",
    "\n",
    "print(f\"📊 Ensemble de junio creado:\")\n",
    "print(f\"   - Forma de matriz: {matriz_junio.shape}\")\n",
    "print(f\"   - Probabilidades promedio: {probabilidades_junio_ensemble.shape}\")\n",
    "print(f\"   - Min prob: {probabilidades_junio_ensemble.min():.6f}\")\n",
    "print(f\"   - Max prob: {probabilidades_junio_ensemble.max():.6f}\")\n",
    "print(f\"   - Media prob: {probabilidades_junio_ensemble.mean():.6f}\")\n",
    "\n",
    "# Aplicar umbral\n",
    "prediccion_final_binaria = (probabilidades_junio_ensemble >= umbral_junio).astype(int)\n",
    "N_enviados_final = prediccion_final_binaria.sum()\n",
    "\n",
    "print(f\"\\n✅ PREDICCIÓN FINAL CON ENSEMBLE:\")\n",
    "print(f\"   🎯 Umbral usado: {umbral_junio:.6f}\")  \n",
    "print(f\"   📮 Clientes marcados: {N_enviados_final:,}\")\n",
    "print(f\"   📊 Proporción de positivos: {N_enviados_final/len(prediccion_final_binaria)*100:.2f}%\")\n",
    "\n",
    "\n",
    "resultado_ensemble = {\n",
    "    'umbral_optimo_ensemble': umbral_ensemble,\n",
    "    'umbral_usado_junio': umbral_junio,  \n",
    "    'N_en_umbral': N_ensemble,\n",
    "    'ganancia_maxima_abril': ganancia_ensemble,\n",
    "    'umbrales_individuales': umbrales_individuales,\n",
    "    'umbral_promedio_individual': umbral_promedio_individual,\n",
    "    'probabilidades_abril_ensemble': probabilidades_abril_ensemble,\n",
    "    'probabilidades_junio_ensemble': probabilidades_junio_ensemble,\n",
    "    'prediccion_binaria': prediccion_final_binaria,\n",
    "    'N_enviados': N_enviados_final,\n",
    "    'curva_ganancia': curva_ensemble\n",
    "}"
   ]
  },
  {
   "cell_type": "code",
   "execution_count": null,
   "metadata": {},
   "outputs": [
    {
     "name": "stdout",
     "output_type": "stream",
     "text": [
      "\n",
      "============================================================\n",
      "📦 GENERANDO SUBMISSION CON ENSEMBLE\n",
      "============================================================\n",
      "🎯 Umbral usado para junio: 0.017515\n",
      "📮 Número de envíos: 11,988\n",
      "\n",
      "💾 Archivo guardado: CV_clasico_semillas_shock_aguinaldo_TRIAL113_ENSEMBLE_U0.017515_N11988.csv\n",
      "📊 Distribución: {0: 152325, 1: 11988}\n",
      "   - Clase 0 (no enviar): 152,325\n",
      "   - Clase 1 (enviar):    11,988\n",
      "   - Total registros:     164,313\n",
      "\n",
      "📋 Muestra del submission:\n",
      "   numero_de_cliente  Predicted\n",
      "0          249320580          0\n",
      "1          249368642          0\n",
      "2          249483501          0\n",
      "3          249493416          0\n",
      "4          249494219          0\n",
      "5          249580854          0\n",
      "6          249654219          1\n",
      "7          249693963          0\n",
      "8          249739113          0\n",
      "9          249914502          0\n",
      "\n",
      "============================================================\n",
      "📊 RESUMEN COMPLETO DEL ENSEMBLE\n",
      "============================================================\n",
      "🌱 Número de semillas usadas: 10\n",
      "   Semillas: [181459, 306491, 336251, 900577, 901751, 182009, 182011, 182027, 182029, 182041]\n",
      "\n",
      "📐 Umbrales individuales (por semilla):\n",
      "   1. Seed 181459: 0.028007\n",
      "   2. Seed 306491: 0.018153\n",
      "   3. Seed 336251: 0.015892\n",
      "   4. Seed 900577: 0.016319\n",
      "   5. Seed 901751: 0.023214\n",
      "   6. Seed 182009: 0.020418\n",
      "   7. Seed 182011: 0.022290\n",
      "   8. Seed 182027: 0.021519\n",
      "   9. Seed 182029: 0.016583\n",
      "   10. Seed 182041: 0.015067\n",
      "\n",
      "🎯 Umbrales finales:\n",
      "   Promedio de individuales:     0.019746\n",
      "   Umbral óptimo en Abril:       0.021360\n",
      "   Umbral usado en Junio:        0.017515 ← USADO\n",
      "   Ajuste aplicado:              -18.00%\n",
      "   Desviación estándar:          0.003891\n",
      "\n",
      "💰 Ganancia en validación (Abril):\n",
      "   Ganancia máxima del ensemble: $361,780,000\n",
      "   N óptimo en abril: 9,757\n",
      "\n",
      "📊 Probabilidades del ensemble (Junio):\n",
      "   - Mínima:  0.000003\n",
      "   - Máxima:  0.972633\n",
      "   - Media:   0.008155\n",
      "   - Mediana: 0.000485\n",
      "   - Q1:      0.000167\n",
      "   - Q3:      0.002251\n",
      "\n",
      "📮 Predicción final:\n",
      "   Clientes a contactar: 11,988 (7.30%)\n",
      "   Clientes sin contactar: 152,325\n",
      "\n",
      "✅ Listo para subir a Kaggle: CV_clasico_semillas_shock_aguinaldo_TRIAL113_ENSEMBLE_U0.017515_N11988.csv\n",
      "============================================================\n"
     ]
    }
   ],
   "source": [
    "# Archivo para subir a Kaggle - ENSEMBLE\n",
    "\n",
    "\n",
    "print(f\"\\n{'='*60}\")\n",
    "print(f\"📦 GENERANDO SUBMISSION CON ENSEMBLE\")\n",
    "print(f\"{'='*60}\")\n",
    "print(f\"🎯 Umbral usado para junio: {umbral_junio:.6f}\")  \n",
    "print(f\"📮 Número de envíos: {N_enviados_final:,}\")\n",
    "\n",
    "submission = pd.DataFrame({\n",
    "    'numero_de_cliente': test_data['numero_de_cliente'].values,\n",
    "    'Predicted': prediccion_final_binaria\n",
    "})\n",
    "\n",
    "submission_filename = f'{NOMBRE_NOTEBOOK}_TRIAL{trial_number}_ENSEMBLE_U{umbral_junio:.6f}_N{N_enviados_final}.csv'  \n",
    "submission.to_csv(submission_filename, index=False)\n",
    "\n",
    "print(f\"\\n💾 Archivo guardado: {submission_filename}\")\n",
    "print(f\"📊 Distribución: {submission['Predicted'].value_counts().to_dict()}\")\n",
    "print(f\"   - Clase 0 (no enviar): {(prediccion_final_binaria == 0).sum():,}\")\n",
    "print(f\"   - Clase 1 (enviar):    {(prediccion_final_binaria == 1).sum():,}\")\n",
    "print(f\"   - Total registros:     {len(prediccion_final_binaria):,}\")\n",
    "\n",
    "print(\"\\n📋 Muestra del submission:\")\n",
    "print(submission.head(10))\n",
    "\n",
    "# Estadísticas completas del ensemble\n",
    "print(f\"\\n{'='*60}\")\n",
    "print(f\"📊 RESUMEN COMPLETO DEL ENSEMBLE\")\n",
    "print(f\"{'='*60}\")\n",
    "print(f\"🌱 Número de semillas usadas: {len(semillas)}\")\n",
    "print(f\"   Semillas: {semillas}\")\n",
    "\n",
    "print(f\"\\n📐 Umbrales individuales (por semilla):\")\n",
    "for i, (seed, umbral) in enumerate(zip(semillas, umbrales_individuales), 1):\n",
    "    print(f\"   {i}. Seed {seed}: {umbral:.6f}\")\n",
    "\n",
    "print(f\"\\n🎯 Umbrales finales:\")\n",
    "print(f\"   Promedio de individuales:     {umbral_promedio_individual:.6f}\")\n",
    "print(f\"   Umbral óptimo en Abril:       {umbral_ensemble:.6f}\")  # ✅ Cambiado texto\n",
    "print(f\"   Umbral usado en Junio:        {umbral_junio:.6f} ← USADO\")  # ✅ Agregado\n",
    "if umbral_junio != umbral_ensemble:  # ✅ Agregado\n",
    "    print(f\"   Ajuste aplicado:              {((umbral_junio - umbral_ensemble) / umbral_ensemble) * 100:+.2f}%\")\n",
    "print(f\"   Desviación estándar:          {np.std(umbrales_individuales):.6f}\")\n",
    "\n",
    "print(f\"\\n💰 Ganancia en validación (Abril):\")\n",
    "print(f\"   Ganancia máxima del ensemble: ${ganancia_ensemble:,.0f}\")\n",
    "print(f\"   N óptimo en abril: {N_ensemble:,}\")\n",
    "\n",
    "print(f\"\\n📊 Probabilidades del ensemble (Junio):\")\n",
    "print(f\"   - Mínima:  {probabilidades_junio_ensemble.min():.6f}\")\n",
    "print(f\"   - Máxima:  {probabilidades_junio_ensemble.max():.6f}\")\n",
    "print(f\"   - Media:   {probabilidades_junio_ensemble.mean():.6f}\")\n",
    "print(f\"   - Mediana: {np.median(probabilidades_junio_ensemble):.6f}\")\n",
    "print(f\"   - Q1:      {np.percentile(probabilidades_junio_ensemble, 25):.6f}\")\n",
    "print(f\"   - Q3:      {np.percentile(probabilidades_junio_ensemble, 75):.6f}\")\n",
    "\n",
    "print(f\"\\n📮 Predicción final:\")\n",
    "print(f\"   Clientes a contactar: {N_enviados_final:,} ({N_enviados_final/len(prediccion_final_binaria)*100:.2f}%)\")\n",
    "print(f\"   Clientes sin contactar: {(prediccion_final_binaria == 0).sum():,}\")\n",
    "\n",
    "print(f\"\\n✅ Listo para subir a Kaggle: {submission_filename}\")\n",
    "print(f\"{'='*60}\")"
   ]
  }
 ],
 "metadata": {
  "colab": {
   "provenance": []
  },
  "kernelspec": {
   "display_name": "Python 3",
   "name": "python3"
  },
  "language_info": {
   "codemirror_mode": {
    "name": "ipython",
    "version": 3
   },
   "file_extension": ".py",
   "mimetype": "text/x-python",
   "name": "python",
   "nbconvert_exporter": "python",
   "pygments_lexer": "ipython3",
   "version": "3.12.3"
  }
 },
 "nbformat": 4,
 "nbformat_minor": 0
}
