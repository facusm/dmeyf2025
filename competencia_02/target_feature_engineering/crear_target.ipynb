{
  "cells": [
    {
      "cell_type": "markdown",
      "metadata": {
        "id": "pVzZPzOXT19D"
      },
      "source": [
        "# Crear la clase  Target\n",
        "\n"
      ]
    },
    {
      "cell_type": "code",
      "execution_count": 1,
      "metadata": {
        "colab": {
          "background_save": true
        },
        "id": "ynyJ8u7fUVVO"
      },
      "outputs": [],
      "source": [
        "import duckdb\n",
        "import pandas as pd\n",
        "import os\n",
        "import time"
      ]
    },
    {
      "cell_type": "code",
      "execution_count": null,
      "metadata": {
        "id": "U-Sp5eNSUtdI"
      },
      "outputs": [],
      "source": [
        "# Ruta absoluta al dataset crudo comprimido\n",
        "DATASET_PATH = \"/home/sanmartinofacundo/datasets/competencia_02_crudo.csv.gz\""
      ]
    },
    {
      "cell_type": "code",
      "execution_count": null,
      "metadata": {
        "colab": {
          "base_uri": "https://localhost:8080/",
          "height": 81
        },
        "id": "tXDmDCN1UjPe",
        "outputId": "c0a51d17-5fee-4585-8aa8-a4f941e7c8f6"
      },
      "outputs": [
        {
          "data": {
            "application/vnd.jupyter.widget-view+json": {
              "model_id": "6a6c506838f8491b850b2565effcd304",
              "version_major": 2,
              "version_minor": 0
            },
            "text/plain": [
              "FloatProgress(value=0.0, layout=Layout(width='auto'), style=ProgressStyle(bar_color='black'))"
            ]
          },
          "metadata": {},
          "output_type": "display_data"
        },
        {
          "name": "stdout",
          "output_type": "stream",
          "text": [
            "✅ Tabla creada en memoria\n"
          ]
        }
      ],
      "source": [
        "conn = duckdb.connect(database=':memory:')\n",
        "\n",
        "conn.execute(f\"\"\"\n",
        "    CREATE TABLE competencia_02_crudo AS\n",
        "    SELECT * FROM read_csv_auto('{DATASET_PATH}')\n",
        "\"\"\")\n",
        "print(\"✅ Tabla creada en memoria\")"
      ]
    },
    {
      "cell_type": "code",
      "execution_count": null,
      "metadata": {},
      "outputs": [
        {
          "data": {
            "application/vnd.jupyter.widget-view+json": {
              "model_id": "619be3bceeef4f799c5a7a8b9304dffe",
              "version_major": 2,
              "version_minor": 0
            },
            "text/plain": [
              "FloatProgress(value=0.0, layout=Layout(width='auto'), style=ProgressStyle(bar_color='black'))"
            ]
          },
          "metadata": {},
          "output_type": "display_data"
        },
        {
          "name": "stdout",
          "output_type": "stream",
          "text": [
            "✅ Tabla 'competencia_01' creada en memoria en 8.42 segundos\n"
          ]
        }
      ],
      "source": [
        "start = time.time()\n",
        "# Crear tabla etiquetada con la misma lógica SQL\n",
        "conn.execute(\"\"\"\n",
        "    CREATE OR REPLACE TABLE competencia_02 AS\n",
        "    WITH datos AS (\n",
        "        SELECT *,\n",
        "            LEAD(foto_mes, 1) OVER(PARTITION BY numero_de_cliente ORDER BY foto_mes) AS foto_mes_mas1,\n",
        "            LEAD(foto_mes, 2) OVER(PARTITION BY numero_de_cliente ORDER BY foto_mes) AS foto_mes_mas2\n",
        "        FROM competencia_02_crudo\n",
        "    ),\n",
        "    maximo_mes AS (\n",
        "        SELECT MAX(foto_mes) AS maximo_foto_mes FROM competencia_02_crudo\n",
        "    ),\n",
        "    etiquetado AS (\n",
        "        SELECT\n",
        "            d.*,\n",
        "            CASE\n",
        "                WHEN d.foto_mes = m.maximo_foto_mes THEN NULL\n",
        "                WHEN d.foto_mes_mas1 IS NULL THEN 'BAJA+1'\n",
        "                WHEN d.foto_mes_mas2 IS NULL\n",
        "                     AND d.foto_mes <> m.maximo_foto_mes\n",
        "                     AND d.foto_mes <> m.maximo_foto_mes - 1 THEN 'BAJA+2'\n",
        "                ELSE 'CONTINUA'\n",
        "            END AS clase_ternaria\n",
        "        FROM datos d\n",
        "        CROSS JOIN maximo_mes m\n",
        "    )\n",
        "    SELECT * EXCLUDE (foto_mes_mas1, foto_mes_mas2)\n",
        "    FROM etiquetado;\n",
        "\"\"\")\n",
        "\n",
        "end = time.time()\n",
        "print(f\"✅ Tabla 'competencia_02' creada en memoria en {end - start:.2f} segundos\")"
      ]
    },
    {
      "cell_type": "code",
      "execution_count": null,
      "metadata": {},
      "outputs": [
        {
          "data": {
            "text/html": [
              "<div>\n",
              "<style scoped>\n",
              "    .dataframe tbody tr th:only-of-type {\n",
              "        vertical-align: middle;\n",
              "    }\n",
              "\n",
              "    .dataframe tbody tr th {\n",
              "        vertical-align: top;\n",
              "    }\n",
              "\n",
              "    .dataframe thead th {\n",
              "        text-align: right;\n",
              "    }\n",
              "</style>\n",
              "<table border=\"1\" class=\"dataframe\">\n",
              "  <thead>\n",
              "    <tr style=\"text-align: right;\">\n",
              "      <th></th>\n",
              "      <th>foto_mes</th>\n",
              "      <th>clase_ternaria</th>\n",
              "      <th>cantidad</th>\n",
              "    </tr>\n",
              "  </thead>\n",
              "  <tbody>\n",
              "    <tr>\n",
              "      <th>0</th>\n",
              "      <td>202101</td>\n",
              "      <td>BAJA+1</td>\n",
              "      <td>616</td>\n",
              "    </tr>\n",
              "    <tr>\n",
              "      <th>1</th>\n",
              "      <td>202101</td>\n",
              "      <td>BAJA+2</td>\n",
              "      <td>824</td>\n",
              "    </tr>\n",
              "    <tr>\n",
              "      <th>2</th>\n",
              "      <td>202101</td>\n",
              "      <td>CONTINUA</td>\n",
              "      <td>160087</td>\n",
              "    </tr>\n",
              "    <tr>\n",
              "      <th>3</th>\n",
              "      <td>202102</td>\n",
              "      <td>BAJA+1</td>\n",
              "      <td>830</td>\n",
              "    </tr>\n",
              "    <tr>\n",
              "      <th>4</th>\n",
              "      <td>202102</td>\n",
              "      <td>BAJA+2</td>\n",
              "      <td>1027</td>\n",
              "    </tr>\n",
              "    <tr>\n",
              "      <th>5</th>\n",
              "      <td>202102</td>\n",
              "      <td>CONTINUA</td>\n",
              "      <td>160298</td>\n",
              "    </tr>\n",
              "    <tr>\n",
              "      <th>6</th>\n",
              "      <td>202103</td>\n",
              "      <td>BAJA+1</td>\n",
              "      <td>1034</td>\n",
              "    </tr>\n",
              "    <tr>\n",
              "      <th>7</th>\n",
              "      <td>202103</td>\n",
              "      <td>BAJA+2</td>\n",
              "      <td>953</td>\n",
              "    </tr>\n",
              "    <tr>\n",
              "      <th>8</th>\n",
              "      <td>202103</td>\n",
              "      <td>CONTINUA</td>\n",
              "      <td>161122</td>\n",
              "    </tr>\n",
              "    <tr>\n",
              "      <th>9</th>\n",
              "      <td>202104</td>\n",
              "      <td>BAJA+1</td>\n",
              "      <td>954</td>\n",
              "    </tr>\n",
              "    <tr>\n",
              "      <th>10</th>\n",
              "      <td>202104</td>\n",
              "      <td>BAJA+2</td>\n",
              "      <td>1131</td>\n",
              "    </tr>\n",
              "    <tr>\n",
              "      <th>11</th>\n",
              "      <td>202104</td>\n",
              "      <td>CONTINUA</td>\n",
              "      <td>161333</td>\n",
              "    </tr>\n",
              "    <tr>\n",
              "      <th>12</th>\n",
              "      <td>202105</td>\n",
              "      <td>BAJA+1</td>\n",
              "      <td>1134</td>\n",
              "    </tr>\n",
              "    <tr>\n",
              "      <th>13</th>\n",
              "      <td>202105</td>\n",
              "      <td>CONTINUA</td>\n",
              "      <td>162783</td>\n",
              "    </tr>\n",
              "    <tr>\n",
              "      <th>14</th>\n",
              "      <td>202106</td>\n",
              "      <td>None</td>\n",
              "      <td>164313</td>\n",
              "    </tr>\n",
              "  </tbody>\n",
              "</table>\n",
              "</div>"
            ],
            "text/plain": [
              "    foto_mes clase_ternaria  cantidad\n",
              "0     202101         BAJA+1       616\n",
              "1     202101         BAJA+2       824\n",
              "2     202101       CONTINUA    160087\n",
              "3     202102         BAJA+1       830\n",
              "4     202102         BAJA+2      1027\n",
              "5     202102       CONTINUA    160298\n",
              "6     202103         BAJA+1      1034\n",
              "7     202103         BAJA+2       953\n",
              "8     202103       CONTINUA    161122\n",
              "9     202104         BAJA+1       954\n",
              "10    202104         BAJA+2      1131\n",
              "11    202104       CONTINUA    161333\n",
              "12    202105         BAJA+1      1134\n",
              "13    202105       CONTINUA    162783\n",
              "14    202106           None    164313"
            ]
          },
          "execution_count": 5,
          "metadata": {},
          "output_type": "execute_result"
        }
      ],
      "source": [
        "# Ejecutar la consulta SQL en DuckDB y obtener un DataFrame\n",
        "df_resumen = conn.execute(\"\"\"\n",
        "    SELECT \n",
        "        foto_mes, \n",
        "        clase_ternaria, \n",
        "        COUNT(*) AS cantidad\n",
        "    FROM competencia_02\n",
        "    GROUP BY foto_mes, clase_ternaria\n",
        "    ORDER BY foto_mes, clase_ternaria\n",
        "\"\"\").df()\n",
        "\n",
        "# Mostrar resultado\n",
        "df_resumen.head(15)\n"
      ]
    },
    {
      "cell_type": "code",
      "execution_count": null,
      "metadata": {},
      "outputs": [
        {
          "data": {
            "text/html": [
              "<div>\n",
              "<style scoped>\n",
              "    .dataframe tbody tr th:only-of-type {\n",
              "        vertical-align: middle;\n",
              "    }\n",
              "\n",
              "    .dataframe tbody tr th {\n",
              "        vertical-align: top;\n",
              "    }\n",
              "\n",
              "    .dataframe thead th {\n",
              "        text-align: right;\n",
              "    }\n",
              "</style>\n",
              "<table border=\"1\" class=\"dataframe\">\n",
              "  <thead>\n",
              "    <tr style=\"text-align: right;\">\n",
              "      <th></th>\n",
              "      <th>foto_mes</th>\n",
              "      <th>BAJA+1</th>\n",
              "      <th>BAJA+2</th>\n",
              "      <th>CONTINUA</th>\n",
              "    </tr>\n",
              "  </thead>\n",
              "  <tbody>\n",
              "    <tr>\n",
              "      <th>0</th>\n",
              "      <td>202101</td>\n",
              "      <td>616</td>\n",
              "      <td>824</td>\n",
              "      <td>160087</td>\n",
              "    </tr>\n",
              "    <tr>\n",
              "      <th>1</th>\n",
              "      <td>202102</td>\n",
              "      <td>830</td>\n",
              "      <td>1027</td>\n",
              "      <td>160298</td>\n",
              "    </tr>\n",
              "    <tr>\n",
              "      <th>2</th>\n",
              "      <td>202103</td>\n",
              "      <td>1034</td>\n",
              "      <td>953</td>\n",
              "      <td>161122</td>\n",
              "    </tr>\n",
              "    <tr>\n",
              "      <th>3</th>\n",
              "      <td>202104</td>\n",
              "      <td>954</td>\n",
              "      <td>1131</td>\n",
              "      <td>161333</td>\n",
              "    </tr>\n",
              "    <tr>\n",
              "      <th>4</th>\n",
              "      <td>202105</td>\n",
              "      <td>1134</td>\n",
              "      <td>0</td>\n",
              "      <td>162783</td>\n",
              "    </tr>\n",
              "    <tr>\n",
              "      <th>5</th>\n",
              "      <td>202106</td>\n",
              "      <td>0</td>\n",
              "      <td>0</td>\n",
              "      <td>0</td>\n",
              "    </tr>\n",
              "  </tbody>\n",
              "</table>\n",
              "</div>"
            ],
            "text/plain": [
              "   foto_mes  BAJA+1  BAJA+2  CONTINUA\n",
              "0    202101     616     824    160087\n",
              "1    202102     830    1027    160298\n",
              "2    202103    1034     953    161122\n",
              "3    202104     954    1131    161333\n",
              "4    202105    1134       0    162783\n",
              "5    202106       0       0         0"
            ]
          },
          "execution_count": 6,
          "metadata": {},
          "output_type": "execute_result"
        }
      ],
      "source": [
        "# Ejecutar la consulta PIVOT en DuckDB y obtener un DataFrame\n",
        "df_pivot = conn.execute(\"\"\"\n",
        "    PIVOT competencia_02\n",
        "    ON clase_ternaria\n",
        "    USING count(numero_de_cliente)\n",
        "    GROUP BY foto_mes\n",
        "\"\"\").df()\n",
        "\n",
        "# Mostrar resultado\n",
        "df_pivot.head(36)"
      ]
    },
    {
      "cell_type": "code",
      "execution_count": null,
      "metadata": {},
      "outputs": [
        {
          "data": {
            "application/vnd.jupyter.widget-view+json": {
              "model_id": "32dbc44ccfc14afcaa201352ae65774a",
              "version_major": 2,
              "version_minor": 0
            },
            "text/plain": [
              "FloatProgress(value=0.0, layout=Layout(width='auto'), style=ProgressStyle(bar_color='black'))"
            ]
          },
          "metadata": {},
          "output_type": "display_data"
        },
        {
          "name": "stdout",
          "output_type": "stream",
          "text": [
            "✅ Archivo exportado a: c:\\Users\\Facundo San Martino\\Desktop\\dmeyf2025\\competencia_02\\target_feature_engineering\\..\\datos\\competencia_01.csv\n"
          ]
        }
      ],
      "source": [
        "# Guardar en bucket de GCP (b1)\n",
        "dataset_path_local = \"/home/sanmartinofacundo/dmeyf2025/competencia_02/datos/competencia_02.csv.gz\"\n",
        "conn.execute(f\"\"\"\n",
        "    COPY competencia_02 \n",
        "    TO '{dataset_path_local}' \n",
        "    (FORMAT CSV, HEADER, COMPRESSION GZIP);\n",
        "\"\"\")\n",
        "\n",
        "# Subir al bucket\n",
        "!gsutil cp {dataset_path_local} gs://b1/\n",
        "print(\"✅ Copiado a bucket b1 correctamente\")"
      ]
    }
  ],
  "metadata": {
    "colab": {
      "provenance": []
    },
    "kernelspec": {
      "display_name": "Python 3",
      "name": "python3"
    },
    "language_info": {
      "codemirror_mode": {
        "name": "ipython",
        "version": 3
      },
      "file_extension": ".py",
      "mimetype": "text/x-python",
      "name": "python",
      "nbconvert_exporter": "python",
      "pygments_lexer": "ipython3",
      "version": "3.12.3"
    }
  },
  "nbformat": 4,
  "nbformat_minor": 0
}
