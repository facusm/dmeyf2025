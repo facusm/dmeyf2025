{
 "cells": [
  {
   "cell_type": "code",
   "execution_count": null,
   "id": "5331ecdd",
   "metadata": {},
   "outputs": [],
   "source": [
    "import pandas as pd\n",
    "import sys, os\n",
    "\n",
    "# Agrega la carpeta padre (competencia_02) al PYTHONPATH\n",
    "sys.path.append(os.path.abspath(os.path.join(os.getcwd(), \"..\")))\n",
    "\n",
    "# Ahora sí podés importar desde config\n",
    "from config.config import BUCKET_NAME, FILE_BASE"
   ]
  },
  {
   "cell_type": "code",
   "execution_count": 4,
   "id": "569ea50f",
   "metadata": {},
   "outputs": [
    {
     "data": {
      "text/plain": [
       "'b1'"
      ]
     },
     "execution_count": 4,
     "metadata": {},
     "output_type": "execute_result"
    }
   ],
   "source": [
    "BUCKET_NAME"
   ]
  },
  {
   "cell_type": "code",
   "execution_count": null,
   "id": "74f483bb",
   "metadata": {},
   "outputs": [],
   "source": [
    "path_input = f\"gs://{BUCKET_NAME}/{FILE_BASE}.csv.gz\""
   ]
  },
  {
   "cell_type": "code",
   "execution_count": null,
   "id": "2431fda4",
   "metadata": {},
   "outputs": [],
   "source": [
    "df = pd.read_csv(path_input, compression=\"gzip\")"
   ]
  },
  {
   "cell_type": "code",
   "execution_count": null,
   "id": "28b9a624",
   "metadata": {},
   "outputs": [],
   "source": []
  }
 ],
 "metadata": {
  "kernelspec": {
   "display_name": "Python 3",
   "language": "python",
   "name": "python3"
  },
  "language_info": {
   "codemirror_mode": {
    "name": "ipython",
    "version": 3
   },
   "file_extension": ".py",
   "mimetype": "text/x-python",
   "name": "python",
   "nbconvert_exporter": "python",
   "pygments_lexer": "ipython3",
   "version": "3.12.3"
  }
 },
 "nbformat": 4,
 "nbformat_minor": 5
}
